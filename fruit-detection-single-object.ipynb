{
 "cells": [
  {
   "cell_type": "code",
   "execution_count": 1,
   "id": "40b1d111",
   "metadata": {
    "_cell_guid": "b1076dfc-b9ad-4769-8c92-a6c4dae69d19",
    "_uuid": "8f2839f25d086af736a60e9eeb907d3b93b6e0e5",
    "execution": {
     "iopub.execute_input": "2021-10-01T19:37:11.098053Z",
     "iopub.status.busy": "2021-10-01T19:37:11.097340Z",
     "iopub.status.idle": "2021-10-01T19:37:15.992995Z",
     "shell.execute_reply": "2021-10-01T19:37:15.991979Z",
     "shell.execute_reply.started": "2021-10-01T17:29:37.893991Z"
    },
    "papermill": {
     "duration": 5.019594,
     "end_time": "2021-10-01T19:37:15.993186",
     "exception": false,
     "start_time": "2021-10-01T19:37:10.973592",
     "status": "completed"
    },
    "tags": []
   },
   "outputs": [
    {
     "name": "stderr",
     "output_type": "stream",
     "text": [
      "2021-10-01 19:37:11.592520: I tensorflow/stream_executor/platform/default/dso_loader.cc:49] Successfully opened dynamic library libcudart.so.11.0\n"
     ]
    }
   ],
   "source": [
    "\n",
    "from tensorflow.keras.applications import VGG16\n",
    "from tensorflow.keras.layers import Flatten\n",
    "from tensorflow.keras.layers import Dense\n",
    "from tensorflow.keras.layers import Input\n",
    "from tensorflow.keras.models import Model\n",
    "from tensorflow.keras.optimizers import Adam\n",
    "from tensorflow.keras.preprocessing.image import img_to_array\n",
    "from tensorflow.keras.preprocessing.image import load_img\n",
    "from sklearn.model_selection import train_test_split\n",
    "import matplotlib.pyplot as plt\n",
    "import numpy as np\n",
    "import cv2\n",
    "import os\n",
    "import pandas as pd"
   ]
  },
  {
   "cell_type": "code",
   "execution_count": 2,
   "id": "4bd11c31",
   "metadata": {
    "execution": {
     "iopub.execute_input": "2021-10-01T19:37:16.075556Z",
     "iopub.status.busy": "2021-10-01T19:37:16.074029Z",
     "iopub.status.idle": "2021-10-01T19:37:16.076155Z",
     "shell.execute_reply": "2021-10-01T19:37:16.076544Z",
     "shell.execute_reply.started": "2021-10-01T17:29:46.719465Z"
    },
    "papermill": {
     "duration": 0.0451,
     "end_time": "2021-10-01T19:37:16.076680",
     "exception": false,
     "start_time": "2021-10-01T19:37:16.031580",
     "status": "completed"
    },
    "tags": []
   },
   "outputs": [],
   "source": [
    "import json\n",
    "import re\n",
    "import glob\n",
    "import matplotlib.image as mpimg"
   ]
  },
  {
   "cell_type": "code",
   "execution_count": 3,
   "id": "38abf961",
   "metadata": {
    "execution": {
     "iopub.execute_input": "2021-10-01T19:37:16.163668Z",
     "iopub.status.busy": "2021-10-01T19:37:16.163145Z",
     "iopub.status.idle": "2021-10-01T19:37:17.963289Z",
     "shell.execute_reply": "2021-10-01T19:37:17.962207Z",
     "shell.execute_reply.started": "2021-10-01T17:29:48.746401Z"
    },
    "papermill": {
     "duration": 1.848941,
     "end_time": "2021-10-01T19:37:17.963430",
     "exception": false,
     "start_time": "2021-10-01T19:37:16.114489",
     "status": "completed"
    },
    "tags": []
   },
   "outputs": [],
   "source": [
    "def spliter(line):\n",
    "    line = re.split(\">\", line)\n",
    "    line = re.split(\"<\", line[1])\n",
    "    return(line[0])\n",
    "\n",
    "\n",
    "def create_dataframe(directory_path):\n",
    "    \"\"\"\n",
    "    function that creates a dataframe countaining two columns: ImageId and ImageBoxes\n",
    "    ImageId is the name of the image (not the path)\n",
    "    ImageBoxes is a list containing a list for every element spotted in the image arrange in that way:\n",
    "    [className, xmin, ymin, xmax, ymax]\n",
    "    \"\"\"\n",
    "    \n",
    "    JPG_counter = len(glob.glob1(directory_path,\"*.jpg\"))\n",
    "    XML_counter = len(glob.glob1(directory_path,\"*.xml\"))\n",
    "    assert JPG_counter == XML_counter, \"jpg and xml are not the same length\"\n",
    "    \n",
    "    image_boxes_list, image_id_list = [], []\n",
    "    for dirname, _, filenames in os.walk(directory_path):\n",
    "        for filename in filenames:\n",
    "            path = os.path.join(dirname, filename)\n",
    "            if path.endswith(\".xml\"):\n",
    "                f = open(path, 'r')\n",
    "                image_boxes = []\n",
    "                for element in f:\n",
    "                    if \"<name>\" in element:\n",
    "                        image_boxes.append(spliter(element))\n",
    "                    if \"<xmin>\" in element:\n",
    "                        image_boxes.append(int(spliter(element)))\n",
    "                    if \"<ymin>\" in element:\n",
    "                        image_boxes.append(int(spliter(element)))\n",
    "                    if \"<xmax>\" in element:\n",
    "                        image_boxes.append(int(spliter(element)))\n",
    "                    if \"<ymax>\" in element:\n",
    "                        image_boxes.append(int(spliter(element)))\n",
    "                image_id_list.append(filename.split('.')[0])\n",
    "                image_boxes_list.append(image_boxes)\n",
    "    df = pd.DataFrame(list(zip(image_id_list, image_boxes_list)),columns =['ImageId', 'ImageBoxes'])\n",
    "    return(df)\n",
    "\n",
    "training_directory_path = '/kaggle/input/fruit-images-for-object-detection/train_zip/train'\n",
    "testing_directory_path = '/kaggle/input/fruit-images-for-object-detection/test_zip/test'\n",
    "\n",
    "df_train, df_test = create_dataframe(training_directory_path), create_dataframe(testing_directory_path)\n"
   ]
  },
  {
   "cell_type": "code",
   "execution_count": 4,
   "id": "fdef3995",
   "metadata": {
    "execution": {
     "iopub.execute_input": "2021-10-01T19:37:18.049404Z",
     "iopub.status.busy": "2021-10-01T19:37:18.048584Z",
     "iopub.status.idle": "2021-10-01T19:37:18.066463Z",
     "shell.execute_reply": "2021-10-01T19:37:18.066855Z",
     "shell.execute_reply.started": "2021-10-01T17:29:50.764943Z"
    },
    "papermill": {
     "duration": 0.065934,
     "end_time": "2021-10-01T19:37:18.066985",
     "exception": false,
     "start_time": "2021-10-01T19:37:18.001051",
     "status": "completed"
    },
    "tags": []
   },
   "outputs": [
    {
     "data": {
      "text/html": [
       "<div>\n",
       "<style scoped>\n",
       "    .dataframe tbody tr th:only-of-type {\n",
       "        vertical-align: middle;\n",
       "    }\n",
       "\n",
       "    .dataframe tbody tr th {\n",
       "        vertical-align: top;\n",
       "    }\n",
       "\n",
       "    .dataframe thead th {\n",
       "        text-align: right;\n",
       "    }\n",
       "</style>\n",
       "<table border=\"1\" class=\"dataframe\">\n",
       "  <thead>\n",
       "    <tr style=\"text-align: right;\">\n",
       "      <th></th>\n",
       "      <th>ImageId</th>\n",
       "      <th>ImageBoxes</th>\n",
       "    </tr>\n",
       "  </thead>\n",
       "  <tbody>\n",
       "    <tr>\n",
       "      <th>0</th>\n",
       "      <td>apple_28</td>\n",
       "      <td>[apple, 25, 42, 275, 297]</td>\n",
       "    </tr>\n",
       "    <tr>\n",
       "      <th>1</th>\n",
       "      <td>orange_22</td>\n",
       "      <td>[orange, 75, 96, 531, 465]</td>\n",
       "    </tr>\n",
       "    <tr>\n",
       "      <th>2</th>\n",
       "      <td>apple_65</td>\n",
       "      <td>[apple, 70, 25, 290, 226, apple, 35, 217, 253,...</td>\n",
       "    </tr>\n",
       "    <tr>\n",
       "      <th>3</th>\n",
       "      <td>orange_41</td>\n",
       "      <td>[orange, 390, 391, 815, 800]</td>\n",
       "    </tr>\n",
       "    <tr>\n",
       "      <th>4</th>\n",
       "      <td>banana_67</td>\n",
       "      <td>[banana, 19, 21, 337, 325]</td>\n",
       "    </tr>\n",
       "    <tr>\n",
       "      <th>...</th>\n",
       "      <td>...</td>\n",
       "      <td>...</td>\n",
       "    </tr>\n",
       "    <tr>\n",
       "      <th>235</th>\n",
       "      <td>apple_27</td>\n",
       "      <td>[apple, 51, 3, 414, 350]</td>\n",
       "    </tr>\n",
       "    <tr>\n",
       "      <th>236</th>\n",
       "      <td>apple_63</td>\n",
       "      <td>[apple, 19, 1, 719, 708]</td>\n",
       "    </tr>\n",
       "    <tr>\n",
       "      <th>237</th>\n",
       "      <td>banana_64</td>\n",
       "      <td>[banana, 132, 98, 591, 348]</td>\n",
       "    </tr>\n",
       "    <tr>\n",
       "      <th>238</th>\n",
       "      <td>orange_53</td>\n",
       "      <td>[orange, 324, 291, 692, 680]</td>\n",
       "    </tr>\n",
       "    <tr>\n",
       "      <th>239</th>\n",
       "      <td>banana_54</td>\n",
       "      <td>[banana, 77, 230, 841, 572, banana, 363, 211, ...</td>\n",
       "    </tr>\n",
       "  </tbody>\n",
       "</table>\n",
       "<p>240 rows × 2 columns</p>\n",
       "</div>"
      ],
      "text/plain": [
       "       ImageId                                         ImageBoxes\n",
       "0     apple_28                          [apple, 25, 42, 275, 297]\n",
       "1    orange_22                         [orange, 75, 96, 531, 465]\n",
       "2     apple_65  [apple, 70, 25, 290, 226, apple, 35, 217, 253,...\n",
       "3    orange_41                       [orange, 390, 391, 815, 800]\n",
       "4    banana_67                         [banana, 19, 21, 337, 325]\n",
       "..         ...                                                ...\n",
       "235   apple_27                           [apple, 51, 3, 414, 350]\n",
       "236   apple_63                           [apple, 19, 1, 719, 708]\n",
       "237  banana_64                        [banana, 132, 98, 591, 348]\n",
       "238  orange_53                       [orange, 324, 291, 692, 680]\n",
       "239  banana_54  [banana, 77, 230, 841, 572, banana, 363, 211, ...\n",
       "\n",
       "[240 rows x 2 columns]"
      ]
     },
     "execution_count": 4,
     "metadata": {},
     "output_type": "execute_result"
    }
   ],
   "source": [
    "df_train"
   ]
  },
  {
   "cell_type": "code",
   "execution_count": null,
   "id": "fe4bb112",
   "metadata": {
    "papermill": {
     "duration": 0.037174,
     "end_time": "2021-10-01T19:37:18.142150",
     "exception": false,
     "start_time": "2021-10-01T19:37:18.104976",
     "status": "completed"
    },
    "tags": []
   },
   "outputs": [],
   "source": []
  },
  {
   "cell_type": "code",
   "execution_count": 5,
   "id": "85fb62d2",
   "metadata": {
    "execution": {
     "iopub.execute_input": "2021-10-01T19:37:18.223364Z",
     "iopub.status.busy": "2021-10-01T19:37:18.222821Z",
     "iopub.status.idle": "2021-10-01T19:37:18.553041Z",
     "shell.execute_reply": "2021-10-01T19:37:18.553456Z",
     "shell.execute_reply.started": "2021-10-01T16:27:45.734542Z"
    },
    "papermill": {
     "duration": 0.37184,
     "end_time": "2021-10-01T19:37:18.553600",
     "exception": false,
     "start_time": "2021-10-01T19:37:18.181760",
     "status": "completed"
    },
    "tags": []
   },
   "outputs": [
    {
     "data": {
      "image/png": "[encoded data removed]",
      "text/plain": [
       "<Figure size 432x288 with 1 Axes>"
      ]
     },
     "metadata": {
      "needs_background": "light"
     },
     "output_type": "display_data"
    }
   ],
   "source": [
    "one_image_path = \"/kaggle/input/fruit-images-for-object-detection/train_zip/train/\"+\"orange_22\"+'.jpg'\n",
    "image = mpimg.imread(one_image_path)\n",
    "imgplot = plt.imshow(image)\n",
    "plt.show()"
   ]
  },
  {
   "cell_type": "code",
   "execution_count": 6,
   "id": "b1d49e82",
   "metadata": {
    "execution": {
     "iopub.execute_input": "2021-10-01T19:37:18.638083Z",
     "iopub.status.busy": "2021-10-01T19:37:18.636518Z",
     "iopub.status.idle": "2021-10-01T19:37:18.638728Z",
     "shell.execute_reply": "2021-10-01T19:37:18.639139Z",
     "shell.execute_reply.started": "2021-10-01T17:46:44.385679Z"
    },
    "papermill": {
     "duration": 0.045763,
     "end_time": "2021-10-01T19:37:18.639268",
     "exception": false,
     "start_time": "2021-10-01T19:37:18.593505",
     "status": "completed"
    },
    "tags": []
   },
   "outputs": [],
   "source": [
    "import cv2"
   ]
  },
  {
   "cell_type": "code",
   "execution_count": 7,
   "id": "ccaa143b",
   "metadata": {
    "execution": {
     "iopub.execute_input": "2021-10-01T19:37:18.722499Z",
     "iopub.status.busy": "2021-10-01T19:37:18.721769Z",
     "iopub.status.idle": "2021-10-01T19:37:18.724821Z",
     "shell.execute_reply": "2021-10-01T19:37:18.724219Z",
     "shell.execute_reply.started": "2021-10-01T16:17:46.435118Z"
    },
    "papermill": {
     "duration": 0.046497,
     "end_time": "2021-10-01T19:37:18.725049",
     "exception": true,
     "start_time": "2021-10-01T19:37:18.678552",
     "status": "failed"
    },
    "tags": []
   },
   "outputs": [
    {
     "ename": "SyntaxError",
     "evalue": "invalid syntax (1762422427.py, line 2)",
     "output_type": "error",
     "traceback": [
      "\u001b[0;36m  File \u001b[0;32m\"/tmp/ipykernel_24/1762422427.py\"\u001b[0;36m, line \u001b[0;32m2\u001b[0m\n\u001b[0;31m    path=\u001b[0m\n\u001b[0m         ^\u001b[0m\n\u001b[0;31mSyntaxError\u001b[0m\u001b[0;31m:\u001b[0m invalid syntax\n"
     ]
    }
   ],
   "source": [
    "def resizeImg(imgId):\n",
    "    path=\n",
    "    img=cv2.imread(path)\n",
    "    img_res=cv2.resize(img,(224,224))\n",
    "    return img_res\n",
    "\n",
    "    "
   ]
  },
  {
   "cell_type": "code",
   "execution_count": null,
   "id": "794006c6",
   "metadata": {
    "execution": {
     "iopub.execute_input": "2021-10-01T17:39:09.165411Z",
     "iopub.status.busy": "2021-10-01T17:39:09.164661Z",
     "iopub.status.idle": "2021-10-01T17:39:09.170889Z",
     "shell.execute_reply": "2021-10-01T17:39:09.169938Z",
     "shell.execute_reply.started": "2021-10-01T17:39:09.165361Z"
    },
    "papermill": {
     "duration": null,
     "end_time": null,
     "exception": null,
     "start_time": null,
     "status": "pending"
    },
    "tags": []
   },
   "outputs": [],
   "source": [
    "def tfmbb(bb,h,w):\n",
    "    bb_=[]\n",
    "    bb_.append((bb[0]/w))\n",
    "    bb_.append((bb[1]/h))\n",
    "    bb_.append((bb[2]/w))\n",
    "    bb_.append((bb[3]/h))\n",
    "    return bb_\n",
    "    \n",
    "    "
   ]
  },
  {
   "cell_type": "code",
   "execution_count": null,
   "id": "09c15a35",
   "metadata": {
    "execution": {
     "iopub.execute_input": "2021-10-01T16:25:35.644225Z",
     "iopub.status.busy": "2021-10-01T16:25:35.643507Z",
     "iopub.status.idle": "2021-10-01T16:25:35.653079Z",
     "shell.execute_reply": "2021-10-01T16:25:35.649692Z",
     "shell.execute_reply.started": "2021-10-01T16:25:35.644172Z"
    },
    "papermill": {
     "duration": null,
     "end_time": null,
     "exception": null,
     "start_time": null,
     "status": "pending"
    },
    "tags": []
   },
   "outputs": [],
   "source": [
    "tfmbb([1,2,3,4],400,440)"
   ]
  },
  {
   "cell_type": "code",
   "execution_count": null,
   "id": "f6712b72",
   "metadata": {
    "execution": {
     "iopub.execute_input": "2021-10-01T16:26:40.822575Z",
     "iopub.status.busy": "2021-10-01T16:26:40.822287Z",
     "iopub.status.idle": "2021-10-01T16:26:40.874975Z",
     "shell.execute_reply": "2021-10-01T16:26:40.87289Z",
     "shell.execute_reply.started": "2021-10-01T16:26:40.822537Z"
    },
    "papermill": {
     "duration": null,
     "end_time": null,
     "exception": null,
     "start_time": null,
     "status": "pending"
    },
    "tags": []
   },
   "outputs": [],
   "source": []
  },
  {
   "cell_type": "code",
   "execution_count": null,
   "id": "482ecdcd",
   "metadata": {
    "execution": {
     "iopub.execute_input": "2021-10-01T16:30:29.225047Z",
     "iopub.status.busy": "2021-10-01T16:30:29.22447Z",
     "iopub.status.idle": "2021-10-01T16:30:29.23091Z",
     "shell.execute_reply": "2021-10-01T16:30:29.230054Z",
     "shell.execute_reply.started": "2021-10-01T16:30:29.225012Z"
    },
    "papermill": {
     "duration": null,
     "end_time": null,
     "exception": null,
     "start_time": null,
     "status": "pending"
    },
    "tags": []
   },
   "outputs": [],
   "source": [
    "df_train.size"
   ]
  },
  {
   "cell_type": "code",
   "execution_count": null,
   "id": "80d7f255",
   "metadata": {
    "execution": {
     "iopub.execute_input": "2021-10-01T17:30:04.144311Z",
     "iopub.status.busy": "2021-10-01T17:30:04.144047Z",
     "iopub.status.idle": "2021-10-01T17:30:04.149120Z",
     "shell.execute_reply": "2021-10-01T17:30:04.148456Z",
     "shell.execute_reply.started": "2021-10-01T17:30:04.144283Z"
    },
    "papermill": {
     "duration": null,
     "end_time": null,
     "exception": null,
     "start_time": null,
     "status": "pending"
    },
    "tags": []
   },
   "outputs": [],
   "source": [
    "def drop_multis(df):\n",
    "    l=[]\n",
    "    for i in range(0,df.shape[0]):\n",
    "        x=df.iloc[i]\n",
    "        if len(x['ImageBoxes'])>5:\n",
    "            l.append(i)\n",
    "    return l\n",
    "   \n",
    "\n",
    "    "
   ]
  },
  {
   "cell_type": "code",
   "execution_count": null,
   "id": "c88f358c",
   "metadata": {
    "execution": {
     "iopub.execute_input": "2021-10-01T17:30:07.002061Z",
     "iopub.status.busy": "2021-10-01T17:30:07.001281Z",
     "iopub.status.idle": "2021-10-01T17:30:07.028594Z",
     "shell.execute_reply": "2021-10-01T17:30:07.027857Z",
     "shell.execute_reply.started": "2021-10-01T17:30:07.002022Z"
    },
    "papermill": {
     "duration": null,
     "end_time": null,
     "exception": null,
     "start_time": null,
     "status": "pending"
    },
    "tags": []
   },
   "outputs": [],
   "source": [
    "l=drop_multis(df_train)"
   ]
  },
  {
   "cell_type": "code",
   "execution_count": null,
   "id": "19db0836",
   "metadata": {
    "execution": {
     "iopub.execute_input": "2021-10-01T17:30:10.321865Z",
     "iopub.status.busy": "2021-10-01T17:30:10.321566Z",
     "iopub.status.idle": "2021-10-01T17:30:10.326445Z",
     "shell.execute_reply": "2021-10-01T17:30:10.325754Z",
     "shell.execute_reply.started": "2021-10-01T17:30:10.321837Z"
    },
    "papermill": {
     "duration": null,
     "end_time": null,
     "exception": null,
     "start_time": null,
     "status": "pending"
    },
    "tags": []
   },
   "outputs": [],
   "source": [
    "df_train=df_train.drop(l)"
   ]
  },
  {
   "cell_type": "code",
   "execution_count": null,
   "id": "53a6ab85",
   "metadata": {
    "execution": {
     "iopub.execute_input": "2021-10-01T17:30:13.081085Z",
     "iopub.status.busy": "2021-10-01T17:30:13.080810Z",
     "iopub.status.idle": "2021-10-01T17:30:13.090500Z",
     "shell.execute_reply": "2021-10-01T17:30:13.089655Z",
     "shell.execute_reply.started": "2021-10-01T17:30:13.081056Z"
    },
    "papermill": {
     "duration": null,
     "end_time": null,
     "exception": null,
     "start_time": null,
     "status": "pending"
    },
    "tags": []
   },
   "outputs": [],
   "source": [
    "l=drop_multis(df_test)"
   ]
  },
  {
   "cell_type": "code",
   "execution_count": null,
   "id": "b0cff4d0",
   "metadata": {
    "execution": {
     "iopub.execute_input": "2021-10-01T17:30:15.965284Z",
     "iopub.status.busy": "2021-10-01T17:30:15.964548Z",
     "iopub.status.idle": "2021-10-01T17:30:15.969253Z",
     "shell.execute_reply": "2021-10-01T17:30:15.968566Z",
     "shell.execute_reply.started": "2021-10-01T17:30:15.965251Z"
    },
    "papermill": {
     "duration": null,
     "end_time": null,
     "exception": null,
     "start_time": null,
     "status": "pending"
    },
    "tags": []
   },
   "outputs": [],
   "source": [
    "df_test=df_test.drop(l)"
   ]
  },
  {
   "cell_type": "code",
   "execution_count": null,
   "id": "fa7525a4",
   "metadata": {
    "execution": {
     "iopub.execute_input": "2021-10-01T17:30:19.189471Z",
     "iopub.status.busy": "2021-10-01T17:30:19.188580Z",
     "iopub.status.idle": "2021-10-01T17:30:19.213908Z",
     "shell.execute_reply": "2021-10-01T17:30:19.212513Z",
     "shell.execute_reply.started": "2021-10-01T17:30:19.189424Z"
    },
    "papermill": {
     "duration": null,
     "end_time": null,
     "exception": null,
     "start_time": null,
     "status": "pending"
    },
    "tags": []
   },
   "outputs": [],
   "source": [
    "df_test"
   ]
  },
  {
   "cell_type": "code",
   "execution_count": null,
   "id": "8d9cfabc",
   "metadata": {
    "execution": {
     "iopub.execute_input": "2021-10-01T17:30:56.534351Z",
     "iopub.status.busy": "2021-10-01T17:30:56.533824Z",
     "iopub.status.idle": "2021-10-01T17:30:56.553919Z",
     "shell.execute_reply": "2021-10-01T17:30:56.553179Z",
     "shell.execute_reply.started": "2021-10-01T17:30:56.534317Z"
    },
    "papermill": {
     "duration": null,
     "end_time": null,
     "exception": null,
     "start_time": null,
     "status": "pending"
    },
    "tags": []
   },
   "outputs": [],
   "source": [
    "train_labels=[]\n",
    "train_boxes=[]\n",
    "for i in range(df_train.shape[0]):\n",
    "    \n",
    "    x=df_train.iloc[i][\"ImageBoxes\"]\n",
    "    train_labels.append(classes.index(x[0]))\n",
    "    train_boxes.append(x[1:])\n",
    "    "
   ]
  },
  {
   "cell_type": "code",
   "execution_count": null,
   "id": "a013ea20",
   "metadata": {
    "execution": {
     "iopub.execute_input": "2021-10-01T17:30:59.364414Z",
     "iopub.status.busy": "2021-10-01T17:30:59.364143Z",
     "iopub.status.idle": "2021-10-01T17:30:59.372322Z",
     "shell.execute_reply": "2021-10-01T17:30:59.371383Z",
     "shell.execute_reply.started": "2021-10-01T17:30:59.364386Z"
    },
    "papermill": {
     "duration": null,
     "end_time": null,
     "exception": null,
     "start_time": null,
     "status": "pending"
    },
    "tags": []
   },
   "outputs": [],
   "source": [
    "test_labels=[]\n",
    "test_boxes=[]\n",
    "for i in range(df_test.shape[0]):\n",
    "    \n",
    "    x=df_test.iloc[i][\"ImageBoxes\"]\n",
    "    test_labels.append(classes.index(x[0]))\n",
    "    test_boxes.append(x[1:])\n",
    "    "
   ]
  },
  {
   "cell_type": "code",
   "execution_count": null,
   "id": "c983ebea",
   "metadata": {
    "execution": {
     "iopub.execute_input": "2021-10-01T17:30:54.230283Z",
     "iopub.status.busy": "2021-10-01T17:30:54.229663Z",
     "iopub.status.idle": "2021-10-01T17:30:54.234342Z",
     "shell.execute_reply": "2021-10-01T17:30:54.233525Z",
     "shell.execute_reply.started": "2021-10-01T17:30:54.230249Z"
    },
    "papermill": {
     "duration": null,
     "end_time": null,
     "exception": null,
     "start_time": null,
     "status": "pending"
    },
    "tags": []
   },
   "outputs": [],
   "source": [
    "classes=['apple','orange','banana']"
   ]
  },
  {
   "cell_type": "code",
   "execution_count": null,
   "id": "661849ab",
   "metadata": {
    "execution": {
     "iopub.execute_input": "2021-10-01T17:46:31.029834Z",
     "iopub.status.busy": "2021-10-01T17:46:31.029139Z",
     "iopub.status.idle": "2021-10-01T17:46:31.034429Z",
     "shell.execute_reply": "2021-10-01T17:46:31.033537Z",
     "shell.execute_reply.started": "2021-10-01T17:46:31.029794Z"
    },
    "papermill": {
     "duration": null,
     "end_time": null,
     "exception": null,
     "start_time": null,
     "status": "pending"
    },
    "tags": []
   },
   "outputs": [],
   "source": [
    "def get_size(imgId):\n",
    "    img_path=\"/kaggle/input/fruit-images-for-object-detection/train_zip/train/\"+imgId+'.jpg'\n",
    "    img=cv2.imread(img_path)\n",
    "    width=img.shape[1]\n",
    "    height=img.shape[0]\n",
    "    return height,width\n",
    "\n",
    "                   \n",
    "    \n",
    "    "
   ]
  },
  {
   "cell_type": "code",
   "execution_count": null,
   "id": "4b61fe29",
   "metadata": {
    "execution": {
     "iopub.execute_input": "2021-10-01T17:59:03.104798Z",
     "iopub.status.busy": "2021-10-01T17:59:03.104436Z",
     "iopub.status.idle": "2021-10-01T17:59:03.110912Z",
     "shell.execute_reply": "2021-10-01T17:59:03.110039Z",
     "shell.execute_reply.started": "2021-10-01T17:59:03.104764Z"
    },
    "papermill": {
     "duration": null,
     "end_time": null,
     "exception": null,
     "start_time": null,
     "status": "pending"
    },
    "tags": []
   },
   "outputs": [],
   "source": [
    "def get_size_test(imgId):\n",
    "    img_path=\"/kaggle/input/fruit-images-for-object-detection/test_zip/test/\"+imgId+'.jpg'\n",
    "    img=cv2.imread(img_path)\n",
    "    width=img.shape[1]\n",
    "    height=img.shape[0]\n",
    "    return height,width\n"
   ]
  },
  {
   "cell_type": "code",
   "execution_count": null,
   "id": "60f10b7c",
   "metadata": {
    "execution": {
     "iopub.execute_input": "2021-10-01T17:51:50.414001Z",
     "iopub.status.busy": "2021-10-01T17:51:50.413625Z",
     "iopub.status.idle": "2021-10-01T17:51:54.861226Z",
     "shell.execute_reply": "2021-10-01T17:51:54.860450Z",
     "shell.execute_reply.started": "2021-10-01T17:51:50.413961Z"
    },
    "papermill": {
     "duration": null,
     "end_time": null,
     "exception": null,
     "start_time": null,
     "status": "pending"
    },
    "tags": []
   },
   "outputs": [],
   "source": [
    "train_boxes1=[]\n",
    "for i in range(len(train_boxes)):\n",
    "    x=df_train.iloc[i][\"ImageId\"]\n",
    "    h=get_size(x)[0]\n",
    "    w=get_size(x)[1]\n",
    "    train_boxes1.append(tfmbb(train_boxes[i],h,w))\n",
    "    "
   ]
  },
  {
   "cell_type": "code",
   "execution_count": null,
   "id": "241d1a35",
   "metadata": {
    "execution": {
     "iopub.execute_input": "2021-10-01T17:59:24.424544Z",
     "iopub.status.busy": "2021-10-01T17:59:24.424293Z",
     "iopub.status.idle": "2021-10-01T17:59:25.500251Z",
     "shell.execute_reply": "2021-10-01T17:59:25.499504Z",
     "shell.execute_reply.started": "2021-10-01T17:59:24.424518Z"
    },
    "papermill": {
     "duration": null,
     "end_time": null,
     "exception": null,
     "start_time": null,
     "status": "pending"
    },
    "tags": []
   },
   "outputs": [],
   "source": [
    "test_boxes1=[]\n",
    "for i in range(len(test_boxes)):\n",
    "    x=df_test.iloc[i][\"ImageId\"]\n",
    "    h=get_size_test(x)[0]\n",
    "    w=get_size_test(x)[1]\n",
    "    test_boxes1.append(tfmbb(test_boxes[i],h,w))"
   ]
  },
  {
   "cell_type": "code",
   "execution_count": null,
   "id": "9817237c",
   "metadata": {
    "execution": {
     "iopub.execute_input": "2021-10-01T17:59:28.011418Z",
     "iopub.status.busy": "2021-10-01T17:59:28.011160Z",
     "iopub.status.idle": "2021-10-01T17:59:28.018862Z",
     "shell.execute_reply": "2021-10-01T17:59:28.018171Z",
     "shell.execute_reply.started": "2021-10-01T17:59:28.011392Z"
    },
    "papermill": {
     "duration": null,
     "end_time": null,
     "exception": null,
     "start_time": null,
     "status": "pending"
    },
    "tags": []
   },
   "outputs": [],
   "source": [
    "test_boxes1"
   ]
  },
  {
   "cell_type": "code",
   "execution_count": null,
   "id": "783241d2",
   "metadata": {
    "execution": {
     "iopub.execute_input": "2021-10-01T18:07:58.937598Z",
     "iopub.status.busy": "2021-10-01T18:07:58.936909Z",
     "iopub.status.idle": "2021-10-01T18:08:00.706861Z",
     "shell.execute_reply": "2021-10-01T18:08:00.706154Z",
     "shell.execute_reply.started": "2021-10-01T18:07:58.937561Z"
    },
    "papermill": {
     "duration": null,
     "end_time": null,
     "exception": null,
     "start_time": null,
     "status": "pending"
    },
    "tags": []
   },
   "outputs": [],
   "source": [
    "train_imgs=[]\n",
    "height=224\n",
    "width=224\n",
    "for i in range(df_train.shape[0]):\n",
    "    x=df_train.iloc[i][\"ImageId\"]\n",
    "    img_path=\"/kaggle/input/fruit-images-for-object-detection/train_zip/train/\"+x+'.jpg'\n",
    "    train_img =load_img(img_path, target_size=(height, width))\n",
    "    train_imgs.append(img_to_array(train_img))"
   ]
  },
  {
   "cell_type": "code",
   "execution_count": null,
   "id": "52c0acdb",
   "metadata": {
    "execution": {
     "iopub.execute_input": "2021-10-01T18:09:53.707706Z",
     "iopub.status.busy": "2021-10-01T18:09:53.707424Z",
     "iopub.status.idle": "2021-10-01T18:09:54.102471Z",
     "shell.execute_reply": "2021-10-01T18:09:54.101781Z",
     "shell.execute_reply.started": "2021-10-01T18:09:53.707677Z"
    },
    "papermill": {
     "duration": null,
     "end_time": null,
     "exception": null,
     "start_time": null,
     "status": "pending"
    },
    "tags": []
   },
   "outputs": [],
   "source": [
    "test_imgs=[]\n",
    "height=224\n",
    "width=224\n",
    "for i in range(df_test.shape[0]):\n",
    "    x=df_test.iloc[i][\"ImageId\"]\n",
    "    img_path=\"/kaggle/input/fruit-images-for-object-detection/test_zip/test/\"+x+'.jpg'\n",
    "    test_img =load_img(img_path, target_size=(height, width))\n",
    "    test_imgs.append(img_to_array(test_img))"
   ]
  },
  {
   "cell_type": "code",
   "execution_count": null,
   "id": "d5191ca5",
   "metadata": {
    "execution": {
     "iopub.execute_input": "2021-10-01T18:12:21.517731Z",
     "iopub.status.busy": "2021-10-01T18:12:21.516820Z",
     "iopub.status.idle": "2021-10-01T18:12:21.557478Z",
     "shell.execute_reply": "2021-10-01T18:12:21.556760Z",
     "shell.execute_reply.started": "2021-10-01T18:12:21.517676Z"
    },
    "papermill": {
     "duration": null,
     "end_time": null,
     "exception": null,
     "start_time": null,
     "status": "pending"
    },
    "tags": []
   },
   "outputs": [],
   "source": [
    "train_imgs=np.array(train_imgs)\n",
    "train_labels=np.array(train_labels)\n",
    "train_boxes=np.array(train_boxes1)\n",
    "\n",
    "test_imgs=np.array(test_imgs)\n",
    "test_labels=np.array(test_labels)\n",
    "test_boxes=np.array(test_boxes1)\n"
   ]
  },
  {
   "cell_type": "code",
   "execution_count": null,
   "id": "dad4bc59",
   "metadata": {
    "execution": {
     "iopub.execute_input": "2021-10-01T18:24:37.875221Z",
     "iopub.status.busy": "2021-10-01T18:24:37.874739Z",
     "iopub.status.idle": "2021-10-01T18:24:37.926063Z",
     "shell.execute_reply": "2021-10-01T18:24:37.925366Z",
     "shell.execute_reply.started": "2021-10-01T18:24:37.875181Z"
    },
    "papermill": {
     "duration": null,
     "end_time": null,
     "exception": null,
     "start_time": null,
     "status": "pending"
    },
    "tags": []
   },
   "outputs": [],
   "source": [
    "input_shape = (height, width, 3)\n",
    "input_layer = layers.Input(input_shape)\n",
    "\n",
    "#create the base layers\n",
    "base_layers = layers.experimental.preprocessing.Rescaling(1./255, name='bl_1')(input_layer)\n",
    "base_layers = layers.Conv2D(16, 3, padding='same', activation='relu', name='bl_2')(base_layers)\n",
    "base_layers = layers.MaxPooling2D(name='bl_3')(base_layers)\n",
    "base_layers = layers.Conv2D(32, 3, padding='same', activation='relu', name='bl_4')(base_layers)\n",
    "base_layers = layers.MaxPooling2D(name='bl_5')(base_layers)\n",
    "base_layers = layers.Conv2D(64, 3, padding='same', activation='relu', name='bl_6')(base_layers)\n",
    "base_layers = layers.MaxPooling2D(name='bl_7')(base_layers)\n",
    "base_layers = layers.Flatten(name='bl_8')(base_layers)"
   ]
  },
  {
   "cell_type": "code",
   "execution_count": null,
   "id": "e49bdebb",
   "metadata": {
    "execution": {
     "iopub.execute_input": "2021-10-01T18:25:33.158324Z",
     "iopub.status.busy": "2021-10-01T18:25:33.157762Z",
     "iopub.status.idle": "2021-10-01T18:25:33.178012Z",
     "shell.execute_reply": "2021-10-01T18:25:33.177383Z",
     "shell.execute_reply.started": "2021-10-01T18:25:33.158287Z"
    },
    "papermill": {
     "duration": null,
     "end_time": null,
     "exception": null,
     "start_time": null,
     "status": "pending"
    },
    "tags": []
   },
   "outputs": [],
   "source": [
    "classifier_branch = layers.Dense(128, activation='relu', name='cl_1')(base_layers)\n",
    "classifier_branch = layers.Dense(3, name='cl_head')(classifier_branch)"
   ]
  },
  {
   "cell_type": "code",
   "execution_count": null,
   "id": "e3633a93",
   "metadata": {
    "execution": {
     "iopub.execute_input": "2021-10-01T18:25:35.025353Z",
     "iopub.status.busy": "2021-10-01T18:25:35.025090Z",
     "iopub.status.idle": "2021-10-01T18:25:35.057940Z",
     "shell.execute_reply": "2021-10-01T18:25:35.057271Z",
     "shell.execute_reply.started": "2021-10-01T18:25:35.025324Z"
    },
    "papermill": {
     "duration": null,
     "end_time": null,
     "exception": null,
     "start_time": null,
     "status": "pending"
    },
    "tags": []
   },
   "outputs": [],
   "source": [
    "bboxHead = Dense(128, activation=\"relu\",name='bb1')(base_layers)\n",
    "bboxHead = Dense(64, activation=\"relu\",name='bb2')(bboxHead)\n",
    "bboxHead = Dense(32, activation=\"relu\",name='bb3')(bboxHead)\n",
    "bboxHead = Dense(4, activation=\"sigmoid\",name='bb_head')(bboxHead)\n",
    "\n"
   ]
  },
  {
   "cell_type": "code",
   "execution_count": null,
   "id": "74f60f62",
   "metadata": {
    "execution": {
     "iopub.execute_input": "2021-10-01T18:23:51.603601Z",
     "iopub.status.busy": "2021-10-01T18:23:51.603347Z",
     "iopub.status.idle": "2021-10-01T18:23:51.607034Z",
     "shell.execute_reply": "2021-10-01T18:23:51.606340Z",
     "shell.execute_reply.started": "2021-10-01T18:23:51.603574Z"
    },
    "papermill": {
     "duration": null,
     "end_time": null,
     "exception": null,
     "start_time": null,
     "status": "pending"
    },
    "tags": []
   },
   "outputs": [],
   "source": [
    "from tensorflow.keras import layers"
   ]
  },
  {
   "cell_type": "code",
   "execution_count": null,
   "id": "c949d461",
   "metadata": {
    "execution": {
     "iopub.execute_input": "2021-10-01T18:26:35.048168Z",
     "iopub.status.busy": "2021-10-01T18:26:35.047868Z",
     "iopub.status.idle": "2021-10-01T18:26:35.059303Z",
     "shell.execute_reply": "2021-10-01T18:26:35.058563Z",
     "shell.execute_reply.started": "2021-10-01T18:26:35.048139Z"
    },
    "papermill": {
     "duration": null,
     "end_time": null,
     "exception": null,
     "start_time": null,
     "status": "pending"
    },
    "tags": []
   },
   "outputs": [],
   "source": [
    "model = Model(input_layer,\n",
    "           outputs=[classifier_branch,bboxHead])"
   ]
  },
  {
   "cell_type": "code",
   "execution_count": null,
   "id": "af4ffbb5",
   "metadata": {
    "execution": {
     "iopub.execute_input": "2021-10-01T18:26:48.776702Z",
     "iopub.status.busy": "2021-10-01T18:26:48.776189Z",
     "iopub.status.idle": "2021-10-01T18:26:48.789945Z",
     "shell.execute_reply": "2021-10-01T18:26:48.787685Z",
     "shell.execute_reply.started": "2021-10-01T18:26:48.776668Z"
    },
    "papermill": {
     "duration": null,
     "end_time": null,
     "exception": null,
     "start_time": null,
     "status": "pending"
    },
    "tags": []
   },
   "outputs": [],
   "source": [
    "print(model.summary())"
   ]
  },
  {
   "cell_type": "code",
   "execution_count": null,
   "id": "67ff3e2f",
   "metadata": {
    "execution": {
     "iopub.execute_input": "2021-10-01T18:28:34.568524Z",
     "iopub.status.busy": "2021-10-01T18:28:34.567799Z",
     "iopub.status.idle": "2021-10-01T18:28:34.575017Z",
     "shell.execute_reply": "2021-10-01T18:28:34.574169Z",
     "shell.execute_reply.started": "2021-10-01T18:28:34.568487Z"
    },
    "papermill": {
     "duration": null,
     "end_time": null,
     "exception": null,
     "start_time": null,
     "status": "pending"
    },
    "tags": []
   },
   "outputs": [],
   "source": [
    "losses = {\"cl_head\":tf.keras.losses.SparseCategoricalCrossentropy(from_logits=True), \n",
    "   \"bb_head\":tf.keras.losses.MSE}"
   ]
  },
  {
   "cell_type": "code",
   "execution_count": null,
   "id": "9aee783d",
   "metadata": {
    "execution": {
     "iopub.execute_input": "2021-10-01T18:28:32.680796Z",
     "iopub.status.busy": "2021-10-01T18:28:32.680225Z",
     "iopub.status.idle": "2021-10-01T18:28:32.684828Z",
     "shell.execute_reply": "2021-10-01T18:28:32.684042Z",
     "shell.execute_reply.started": "2021-10-01T18:28:32.680758Z"
    },
    "papermill": {
     "duration": null,
     "end_time": null,
     "exception": null,
     "start_time": null,
     "status": "pending"
    },
    "tags": []
   },
   "outputs": [],
   "source": [
    "import tensorflow as tf"
   ]
  },
  {
   "cell_type": "code",
   "execution_count": null,
   "id": "5dfdb0ba",
   "metadata": {
    "execution": {
     "iopub.execute_input": "2021-10-01T18:29:08.567575Z",
     "iopub.status.busy": "2021-10-01T18:29:08.567322Z",
     "iopub.status.idle": "2021-10-01T18:29:08.586952Z",
     "shell.execute_reply": "2021-10-01T18:29:08.586259Z",
     "shell.execute_reply.started": "2021-10-01T18:29:08.567548Z"
    },
    "papermill": {
     "duration": null,
     "end_time": null,
     "exception": null,
     "start_time": null,
     "status": "pending"
    },
    "tags": []
   },
   "outputs": [],
   "source": [
    "model.compile(loss=losses, optimizer='Adam', metrics=['accuracy'])\n"
   ]
  },
  {
   "cell_type": "code",
   "execution_count": null,
   "id": "0430547b",
   "metadata": {
    "execution": {
     "iopub.execute_input": "2021-10-01T18:31:21.866247Z",
     "iopub.status.busy": "2021-10-01T18:31:21.865814Z",
     "iopub.status.idle": "2021-10-01T18:31:21.870973Z",
     "shell.execute_reply": "2021-10-01T18:31:21.869783Z",
     "shell.execute_reply.started": "2021-10-01T18:31:21.866215Z"
    },
    "papermill": {
     "duration": null,
     "end_time": null,
     "exception": null,
     "start_time": null,
     "status": "pending"
    },
    "tags": []
   },
   "outputs": [],
   "source": [
    "trainTargets = {\n",
    "    \"cl_head\": train_labels,\n",
    "    \"bb_head\": train_boxes\n",
    "}\n",
    "validationTargets = {\n",
    "    \"cl_head\": test_labels,\n",
    "    \"bb_head\": test_boxes\n",
    "}"
   ]
  },
  {
   "cell_type": "code",
   "execution_count": null,
   "id": "dd18bc3c",
   "metadata": {
    "execution": {
     "iopub.execute_input": "2021-10-01T18:49:46.499803Z",
     "iopub.status.busy": "2021-10-01T18:49:46.499515Z",
     "iopub.status.idle": "2021-10-01T18:49:53.659136Z",
     "shell.execute_reply": "2021-10-01T18:49:53.658436Z",
     "shell.execute_reply.started": "2021-10-01T18:49:46.499772Z"
    },
    "papermill": {
     "duration": null,
     "end_time": null,
     "exception": null,
     "start_time": null,
     "status": "pending"
    },
    "tags": []
   },
   "outputs": [],
   "source": [
    "history = model.fit(train_imgs, trainTargets,\n",
    "             validation_data=(test_imgs, validationTargets),\n",
    "             batch_size=4,\n",
    "             epochs=20,\n",
    "             shuffle=True,\n",
    "             verbose=1)\n"
   ]
  },
  {
   "cell_type": "code",
   "execution_count": null,
   "id": "e96b36fd",
   "metadata": {
    "execution": {
     "iopub.execute_input": "2021-10-01T18:35:09.279033Z",
     "iopub.status.busy": "2021-10-01T18:35:09.278470Z",
     "iopub.status.idle": "2021-10-01T18:35:09.284715Z",
     "shell.execute_reply": "2021-10-01T18:35:09.283726Z",
     "shell.execute_reply.started": "2021-10-01T18:35:09.278993Z"
    },
    "papermill": {
     "duration": null,
     "end_time": null,
     "exception": null,
     "start_time": null,
     "status": "pending"
    },
    "tags": []
   },
   "outputs": [],
   "source": [
    "for layer in model.layers:\n",
    "    if layer.name.startswith('bl'):\n",
    "        layer.trainable = False\n",
    "        \n",
    "for layer in model.layers:\n",
    "    if layer.name.startswith('bb'):\n",
    "        layer.trainable = False"
   ]
  },
  {
   "cell_type": "code",
   "execution_count": null,
   "id": "9eb294d2",
   "metadata": {
    "execution": {
     "iopub.execute_input": "2021-10-01T19:18:34.343387Z",
     "iopub.status.busy": "2021-10-01T19:18:34.342570Z",
     "iopub.status.idle": "2021-10-01T19:18:34.399228Z",
     "shell.execute_reply": "2021-10-01T19:18:34.398446Z",
     "shell.execute_reply.started": "2021-10-01T19:18:34.343345Z"
    },
    "papermill": {
     "duration": null,
     "end_time": null,
     "exception": null,
     "start_time": null,
     "status": "pending"
    },
    "tags": []
   },
   "outputs": [],
   "source": [
    "img = load_img('../input/test121/download (2).jpg') # this is a PIL image\n",
    "print(img)\n",
    "\n",
    "array = img_to_array(img)\n",
    "    \n",
    "arrayresized = cv2.resize(array, (224,224))\n",
    "print(arrayresized) # this is a Numpy array with shape (3, 150, 150)\n",
    "\n",
    "inputarray = arrayresized[np.newaxis,...] # dimension added to fit input size\n",
    "\n",
    "prediction = model.predict(inputarray)\n",
    "\n",
    "print(prediction)"
   ]
  },
  {
   "cell_type": "code",
   "execution_count": null,
   "id": "724cfc98",
   "metadata": {
    "execution": {
     "iopub.execute_input": "2021-10-01T19:16:07.627134Z",
     "iopub.status.busy": "2021-10-01T19:16:07.626578Z",
     "iopub.status.idle": "2021-10-01T19:16:07.652107Z",
     "shell.execute_reply": "2021-10-01T19:16:07.650708Z",
     "shell.execute_reply.started": "2021-10-01T19:16:07.627099Z"
    },
    "papermill": {
     "duration": null,
     "end_time": null,
     "exception": null,
     "start_time": null,
     "status": "pending"
    },
    "tags": []
   },
   "outputs": [],
   "source": [
    "predictio"
   ]
  },
  {
   "cell_type": "code",
   "execution_count": null,
   "id": "233cf40d",
   "metadata": {
    "execution": {
     "iopub.execute_input": "2021-10-01T18:48:06.470578Z",
     "iopub.status.busy": "2021-10-01T18:48:06.470050Z",
     "iopub.status.idle": "2021-10-01T18:48:06.481266Z",
     "shell.execute_reply": "2021-10-01T18:48:06.480293Z",
     "shell.execute_reply.started": "2021-10-01T18:48:06.470541Z"
    },
    "papermill": {
     "duration": null,
     "end_time": null,
     "exception": null,
     "start_time": null,
     "status": "pending"
    },
    "tags": []
   },
   "outputs": [],
   "source": [
    "train_imgs[0].reshape(224,224,3)"
   ]
  },
  {
   "cell_type": "code",
   "execution_count": null,
   "id": "c2ba0216",
   "metadata": {
    "execution": {
     "iopub.execute_input": "2021-10-01T18:48:25.750340Z",
     "iopub.status.busy": "2021-10-01T18:48:25.750081Z",
     "iopub.status.idle": "2021-10-01T18:48:25.757205Z",
     "shell.execute_reply": "2021-10-01T18:48:25.754520Z",
     "shell.execute_reply.started": "2021-10-01T18:48:25.750313Z"
    },
    "papermill": {
     "duration": null,
     "end_time": null,
     "exception": null,
     "start_time": null,
     "status": "pending"
    },
    "tags": []
   },
   "outputs": [],
   "source": [
    "train_imgs[0].shape"
   ]
  },
  {
   "cell_type": "code",
   "execution_count": null,
   "id": "9131b335",
   "metadata": {
    "execution": {
     "iopub.execute_input": "2021-10-01T19:23:30.570762Z",
     "iopub.status.busy": "2021-10-01T19:23:30.569844Z",
     "iopub.status.idle": "2021-10-01T19:23:30.576705Z",
     "shell.execute_reply": "2021-10-01T19:23:30.575940Z",
     "shell.execute_reply.started": "2021-10-01T19:23:30.570696Z"
    },
    "papermill": {
     "duration": null,
     "end_time": null,
     "exception": null,
     "start_time": null,
     "status": "pending"
    },
    "tags": []
   },
   "outputs": [],
   "source": [
    "xmin=prediction[1][0][0]*300\n",
    "ymin=prediction[1][0][1]*168\n",
    "xmax=prediction[1][0][2]*300\n",
    "ymax=prediction[1][0][3]*168\n",
    "bb=[xmin,ymin,xmax,ymax]"
   ]
  },
  {
   "cell_type": "code",
   "execution_count": null,
   "id": "99fc3e9c",
   "metadata": {
    "execution": {
     "iopub.execute_input": "2021-10-01T19:10:13.735546Z",
     "iopub.status.busy": "2021-10-01T19:10:13.735263Z",
     "iopub.status.idle": "2021-10-01T19:10:13.743485Z",
     "shell.execute_reply": "2021-10-01T19:10:13.742522Z",
     "shell.execute_reply.started": "2021-10-01T19:10:13.735516Z"
    },
    "papermill": {
     "duration": null,
     "end_time": null,
     "exception": null,
     "start_time": null,
     "status": "pending"
    },
    "tags": []
   },
   "outputs": [],
   "source": [
    "def plot_img_bbox(img,box):\n",
    "    \n",
    "    # plot the image and bboxes\n",
    "    # Bounding boxes are defined as follows: x-min y-min width height\n",
    "    fig, a = plt.subplots(1,1)\n",
    "    fig.set_size_inches(5,5)\n",
    "    a.imshow(img)\n",
    "    \n",
    "\n",
    "    x, y, width, height  = box[0], box[1], box[2]-box[0], box[3]-box[1]\n",
    "    rect = patches.Rectangle((x, y),\n",
    "                                 width, height,\n",
    "                                 linewidth = 2,\n",
    "                                 edgecolor = 'r',\n",
    "                                 facecolor = 'none')\n",
    "\n",
    "        # Draw the bounding box on top of the image\n",
    "    a.add_patch(rect)\n",
    "    plt.show()\n"
   ]
  },
  {
   "cell_type": "code",
   "execution_count": null,
   "id": "6b54d4cb",
   "metadata": {
    "execution": {
     "iopub.execute_input": "2021-10-01T19:23:37.867036Z",
     "iopub.status.busy": "2021-10-01T19:23:37.866478Z",
     "iopub.status.idle": "2021-10-01T19:23:38.062458Z",
     "shell.execute_reply": "2021-10-01T19:23:38.061782Z",
     "shell.execute_reply.started": "2021-10-01T19:23:37.866996Z"
    },
    "papermill": {
     "duration": null,
     "end_time": null,
     "exception": null,
     "start_time": null,
     "status": "pending"
    },
    "tags": []
   },
   "outputs": [],
   "source": [
    "plot_img_bbox(img_to_array(load_img('../input/test121/download (2).jpg')),bb)"
   ]
  },
  {
   "cell_type": "code",
   "execution_count": null,
   "id": "fb6e1863",
   "metadata": {
    "execution": {
     "iopub.execute_input": "2021-10-01T19:14:41.959168Z",
     "iopub.status.busy": "2021-10-01T19:14:41.958483Z",
     "iopub.status.idle": "2021-10-01T19:14:41.963068Z",
     "shell.execute_reply": "2021-10-01T19:14:41.962036Z",
     "shell.execute_reply.started": "2021-10-01T19:14:41.959130Z"
    },
    "papermill": {
     "duration": null,
     "end_time": null,
     "exception": null,
     "start_time": null,
     "status": "pending"
    },
    "tags": []
   },
   "outputs": [],
   "source": [
    "import matplotlib.patches as patches "
   ]
  },
  {
   "cell_type": "code",
   "execution_count": null,
   "id": "f1528879",
   "metadata": {
    "execution": {
     "iopub.execute_input": "2021-10-01T19:21:51.422624Z",
     "iopub.status.busy": "2021-10-01T19:21:51.422350Z",
     "iopub.status.idle": "2021-10-01T19:21:51.646248Z",
     "shell.execute_reply": "2021-10-01T19:21:51.645594Z",
     "shell.execute_reply.started": "2021-10-01T19:21:51.422583Z"
    },
    "papermill": {
     "duration": null,
     "end_time": null,
     "exception": null,
     "start_time": null,
     "status": "pending"
    },
    "tags": []
   },
   "outputs": [],
   "source": [
    "fig, a = plt.subplots(1,1)\n",
    "fig.set_size_inches(5,5)\n",
    "a.imshow(img)"
   ]
  },
  {
   "cell_type": "code",
   "execution_count": null,
   "id": "9c8eb16b",
   "metadata": {
    "execution": {
     "iopub.execute_input": "2021-10-01T19:23:45.539469Z",
     "iopub.status.busy": "2021-10-01T19:23:45.539210Z",
     "iopub.status.idle": "2021-10-01T19:23:45.751093Z",
     "shell.execute_reply": "2021-10-01T19:23:45.750333Z",
     "shell.execute_reply.started": "2021-10-01T19:23:45.539440Z"
    },
    "papermill": {
     "duration": null,
     "end_time": null,
     "exception": null,
     "start_time": null,
     "status": "pending"
    },
    "tags": []
   },
   "outputs": [],
   "source": [
    "fig, a = plt.subplots(1,1)\n",
    "fig.set_size_inches(5,5)\n",
    "a.imshow(img)\n",
    "x, y, width, height  = bb[0], bb[1], bb[2]-bb[0], bb[3]-bb[1]\n",
    "rect = patches.Rectangle((x, y),\n",
    "                                 width, height,\n",
    "                                 linewidth = 2,\n",
    "                                 edgecolor = 'r',\n",
    "                                 facecolor = 'none')\n",
    "\n",
    "        # Draw the bounding box on top of the image\n",
    "a.add_patch(rect)\n",
    "plt.show()"
   ]
  },
  {
   "cell_type": "code",
   "execution_count": null,
   "id": "cc976d50",
   "metadata": {
    "execution": {
     "iopub.execute_input": "2021-10-01T19:23:05.880891Z",
     "iopub.status.busy": "2021-10-01T19:23:05.880353Z",
     "iopub.status.idle": "2021-10-01T19:23:05.889281Z",
     "shell.execute_reply": "2021-10-01T19:23:05.888223Z",
     "shell.execute_reply.started": "2021-10-01T19:23:05.880853Z"
    },
    "papermill": {
     "duration": null,
     "end_time": null,
     "exception": null,
     "start_time": null,
     "status": "pending"
    },
    "tags": []
   },
   "outputs": [],
   "source": [
    "x=cv2.imread('../input/test121/download (2).jpg')"
   ]
  },
  {
   "cell_type": "code",
   "execution_count": null,
   "id": "aecfd44f",
   "metadata": {
    "execution": {
     "iopub.execute_input": "2021-10-01T19:23:11.648216Z",
     "iopub.status.busy": "2021-10-01T19:23:11.647531Z",
     "iopub.status.idle": "2021-10-01T19:23:11.654713Z",
     "shell.execute_reply": "2021-10-01T19:23:11.653883Z",
     "shell.execute_reply.started": "2021-10-01T19:23:11.648178Z"
    },
    "papermill": {
     "duration": null,
     "end_time": null,
     "exception": null,
     "start_time": null,
     "status": "pending"
    },
    "tags": []
   },
   "outputs": [],
   "source": [
    "x.shape"
   ]
  },
  {
   "cell_type": "code",
   "execution_count": null,
   "id": "03ecd86f",
   "metadata": {
    "execution": {
     "iopub.execute_input": "2021-10-01T19:26:02.158608Z",
     "iopub.status.busy": "2021-10-01T19:26:02.158337Z",
     "iopub.status.idle": "2021-10-01T19:26:02.167910Z",
     "shell.execute_reply": "2021-10-01T19:26:02.167105Z",
     "shell.execute_reply.started": "2021-10-01T19:26:02.158580Z"
    },
    "papermill": {
     "duration": null,
     "end_time": null,
     "exception": null,
     "start_time": null,
     "status": "pending"
    },
    "tags": []
   },
   "outputs": [],
   "source": [
    "np.argmax(prediction[0])"
   ]
  },
  {
   "cell_type": "code",
   "execution_count": null,
   "id": "c7046e73",
   "metadata": {
    "execution": {
     "iopub.execute_input": "2021-10-01T19:34:46.474020Z",
     "iopub.status.busy": "2021-10-01T19:34:46.473708Z",
     "iopub.status.idle": "2021-10-01T19:34:46.485889Z",
     "shell.execute_reply": "2021-10-01T19:34:46.482852Z",
     "shell.execute_reply.started": "2021-10-01T19:34:46.473992Z"
    },
    "papermill": {
     "duration": null,
     "end_time": null,
     "exception": null,
     "start_time": null,
     "status": "pending"
    },
    "tags": []
   },
   "outputs": [],
   "source": [
    "def prediction(img_path):\n",
    "    img = load_img(img_path) # this is a PIL image\n",
    "\n",
    "\n",
    "    array = img_to_array(img)\n",
    "    \n",
    "    arrayresized = cv2.resize(array, (224,224))\n",
    "\n",
    "\n",
    "    inputarray = arrayresized[np.newaxis,...] # dimension added to fit input size\n",
    "\n",
    "    prediction = model.predict(inputarray)  \n",
    "    \n",
    "    label=classes[np.argmax(prediction[0])]\n",
    "    xmin=prediction[1][0][0]*300\n",
    "    ymin=prediction[1][0][1]*168\n",
    "    xmax=prediction[1][0][2]*300\n",
    "    ymax=prediction[1][0][3]*168\n",
    "    bb=[xmin,ymin,xmax,ymax]\n",
    "    fig, a = plt.subplots(1,1)\n",
    "    fig.set_size_inches(5,5)\n",
    "    a.imshow(img)\n",
    "    x, y, width, height  = bb[0], bb[1], bb[2]-bb[0], bb[3]-bb[1]\n",
    "    rect = patches.Rectangle((x, y),\n",
    "                                 width, height,\n",
    "                                 linewidth = 2,\n",
    "                                 edgecolor = 'r',\n",
    "                                 facecolor = 'none')\n",
    "\n",
    "        # Draw the bounding box on top of the image\n",
    "    a.add_patch(rect)\n",
    "    plt.title(label)\n",
    "    plt.show()\n",
    "    \n",
    "    \n",
    "\n",
    "    \n",
    "    "
   ]
  },
  {
   "cell_type": "code",
   "execution_count": null,
   "id": "49bec0ab",
   "metadata": {
    "execution": {
     "iopub.execute_input": "2021-10-01T19:34:48.590426Z",
     "iopub.status.busy": "2021-10-01T19:34:48.590174Z",
     "iopub.status.idle": "2021-10-01T19:34:48.845070Z",
     "shell.execute_reply": "2021-10-01T19:34:48.844397Z",
     "shell.execute_reply.started": "2021-10-01T19:34:48.590399Z"
    },
    "papermill": {
     "duration": null,
     "end_time": null,
     "exception": null,
     "start_time": null,
     "status": "pending"
    },
    "tags": []
   },
   "outputs": [],
   "source": [
    "prediction('../input/test121/orange.jpg')"
   ]
  },
  {
   "cell_type": "code",
   "execution_count": null,
   "id": "f3b50a96",
   "metadata": {
    "papermill": {
     "duration": null,
     "end_time": null,
     "exception": null,
     "start_time": null,
     "status": "pending"
    },
    "tags": []
   },
   "outputs": [],
   "source": []
  }
 ],
 "metadata": {
  "kernelspec": {
   "display_name": "Python 3",
   "language": "python",
   "name": "python3"
  },
  "language_info": {
   "codemirror_mode": {
    "name": "ipython",
    "version": 3
   },
   "file_extension": ".py",
   "mimetype": "text/x-python",
   "name": "python",
   "nbconvert_exporter": "python",
   "pygments_lexer": "ipython3",
   "version": "3.7.10"
  },
  "papermill": {
   "default_parameters": {},
   "duration": 17.635813,
   "end_time": "2021-10-01T19:37:22.166613",
   "environment_variables": {},
   "exception": true,
   "input_path": "__notebook__.ipynb",
   "output_path": "__notebook__.ipynb",
   "parameters": {},
   "start_time": "2021-10-01T19:37:04.530800",
   "version": "2.3.3"
  }
 },
 "nbformat": 4,
 "nbformat_minor": 5
}
