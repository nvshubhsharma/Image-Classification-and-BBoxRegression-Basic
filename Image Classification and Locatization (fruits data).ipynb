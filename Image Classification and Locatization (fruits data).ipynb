{
 "cells": [
  {
   "cell_type": "markdown",
   "metadata": {},
   "source": [
    "Importing necessary libraries\n"
   ]
  },
  {
   "cell_type": "code",
   "execution_count": 45,
   "metadata": {
    "execution": {
     "iopub.execute_input": "2021-10-30T20:30:59.431220Z",
     "iopub.status.busy": "2021-10-30T20:30:59.430688Z",
     "iopub.status.idle": "2021-10-30T20:30:59.435301Z",
     "shell.execute_reply": "2021-10-30T20:30:59.434483Z",
     "shell.execute_reply.started": "2021-10-30T20:30:59.431184Z"
    }
   },
   "outputs": [],
   "source": [
    "import tensorflow as tf\n",
    "\n",
    "%matplotlib inline\n",
    "from tensorflow.keras.applications import VGG16\n",
    "from tensorflow.keras.layers import Flatten\n",
    "from tensorflow.keras.layers import Dense\n",
    "from tensorflow.keras.layers import Input\n",
    "from tensorflow.keras.models import Model\n",
    "from tensorflow.keras.optimizers import Adam\n",
    "from tensorflow.keras.preprocessing.image import img_to_array\n",
    "from tensorflow.keras.preprocessing.image import load_img\n",
    "from sklearn.model_selection import train_test_split\n",
    "import matplotlib.pyplot as plt\n",
    "import numpy as np\n",
    "import cv2\n",
    "import os\n",
    "import pandas as pd\n",
    "\n",
    "import matplotlib.patches as patches \n",
    "\n",
    "import json\n",
    "import re\n",
    "import glob\n",
    "import matplotlib.image as mpimg\n",
    "\n",
    "from tensorflow.keras import layers\n",
    "\n",
    "import cv2"
   ]
  },
  {
   "cell_type": "markdown",
   "metadata": {},
   "source": [
    "Extractitng data"
   ]
  },
  {
   "cell_type": "code",
   "execution_count": 3,
   "metadata": {
    "execution": {
     "iopub.execute_input": "2021-10-30T20:28:38.509938Z",
     "iopub.status.busy": "2021-10-30T20:28:38.509318Z",
     "iopub.status.idle": "2021-10-30T20:28:39.537604Z",
     "shell.execute_reply": "2021-10-30T20:28:39.536539Z",
     "shell.execute_reply.started": "2021-10-30T20:28:38.509903Z"
    }
   },
   "outputs": [],
   "source": [
    "def spliter(line):\n",
    "    line = re.split(\">\", line)\n",
    "    line = re.split(\"<\", line[1])\n",
    "    return(line[0])\n",
    "\n",
    "\n",
    "def create_dataframe(directory_path):\n",
    "    \"\"\"\n",
    "    function that creates a dataframe countaining two columns: ImageId and ImageBoxes\n",
    "    ImageId is the name of the image (not the path)\n",
    "    ImageBoxes is a list containing a list for every element spotted in the image arrange in that way:\n",
    "    [className, xmin, ymin, xmax, ymax]\n",
    "    \"\"\"\n",
    "    \n",
    "    JPG_counter = len(glob.glob1(directory_path,\"*.jpg\"))\n",
    "    XML_counter = len(glob.glob1(directory_path,\"*.xml\"))\n",
    "    assert JPG_counter == XML_counter, \"jpg and xml are not the same length\"\n",
    "    \n",
    "    image_boxes_list, image_id_list = [], []\n",
    "    for dirname, _, filenames in os.walk(directory_path):\n",
    "        for filename in filenames:\n",
    "            path = os.path.join(dirname, filename)\n",
    "            if path.endswith(\".xml\"):\n",
    "                f = open(path, 'r')\n",
    "                image_boxes = []\n",
    "                for element in f:\n",
    "                    if \"<name>\" in element:\n",
    "                        image_boxes.append(spliter(element))\n",
    "                    if \"<xmin>\" in element:\n",
    "                        image_boxes.append(int(spliter(element)))\n",
    "                    if \"<ymin>\" in element:\n",
    "                        image_boxes.append(int(spliter(element)))\n",
    "                    if \"<xmax>\" in element:\n",
    "                        image_boxes.append(int(spliter(element)))\n",
    "                    if \"<ymax>\" in element:\n",
    "                        image_boxes.append(int(spliter(element)))\n",
    "                image_id_list.append(filename.split('.')[0])\n",
    "                image_boxes_list.append(image_boxes)\n",
    "    df = pd.DataFrame(list(zip(image_id_list, image_boxes_list)),columns =['ImageId', 'ImageBoxes'])\n",
    "    return(df)\n",
    "\n",
    "training_directory_path = '/kaggle/input/fruit-images-for-object-detection/train_zip/train'\n",
    "testing_directory_path = '/kaggle/input/fruit-images-for-object-detection/test_zip/test'\n",
    "\n",
    "df_train, df_test = create_dataframe(training_directory_path), create_dataframe(testing_directory_path)\n"
   ]
  },
  {
   "cell_type": "code",
   "execution_count": 4,
   "metadata": {
    "execution": {
     "iopub.execute_input": "2021-10-30T20:28:39.544171Z",
     "iopub.status.busy": "2021-10-30T20:28:39.543828Z",
     "iopub.status.idle": "2021-10-30T20:28:39.591084Z",
     "shell.execute_reply": "2021-10-30T20:28:39.590301Z",
     "shell.execute_reply.started": "2021-10-30T20:28:39.544135Z"
    }
   },
   "outputs": [
    {
     "data": {
      "text/html": [
       "<div>\n",
       "<style scoped>\n",
       "    .dataframe tbody tr th:only-of-type {\n",
       "        vertical-align: middle;\n",
       "    }\n",
       "\n",
       "    .dataframe tbody tr th {\n",
       "        vertical-align: top;\n",
       "    }\n",
       "\n",
       "    .dataframe thead th {\n",
       "        text-align: right;\n",
       "    }\n",
       "</style>\n",
       "<table border=\"1\" class=\"dataframe\">\n",
       "  <thead>\n",
       "    <tr style=\"text-align: right;\">\n",
       "      <th></th>\n",
       "      <th>ImageId</th>\n",
       "      <th>ImageBoxes</th>\n",
       "    </tr>\n",
       "  </thead>\n",
       "  <tbody>\n",
       "    <tr>\n",
       "      <th>0</th>\n",
       "      <td>apple_28</td>\n",
       "      <td>[apple, 25, 42, 275, 297]</td>\n",
       "    </tr>\n",
       "    <tr>\n",
       "      <th>1</th>\n",
       "      <td>orange_22</td>\n",
       "      <td>[orange, 75, 96, 531, 465]</td>\n",
       "    </tr>\n",
       "    <tr>\n",
       "      <th>2</th>\n",
       "      <td>apple_65</td>\n",
       "      <td>[apple, 70, 25, 290, 226, apple, 35, 217, 253,...</td>\n",
       "    </tr>\n",
       "    <tr>\n",
       "      <th>3</th>\n",
       "      <td>orange_41</td>\n",
       "      <td>[orange, 390, 391, 815, 800]</td>\n",
       "    </tr>\n",
       "    <tr>\n",
       "      <th>4</th>\n",
       "      <td>banana_67</td>\n",
       "      <td>[banana, 19, 21, 337, 325]</td>\n",
       "    </tr>\n",
       "    <tr>\n",
       "      <th>...</th>\n",
       "      <td>...</td>\n",
       "      <td>...</td>\n",
       "    </tr>\n",
       "    <tr>\n",
       "      <th>235</th>\n",
       "      <td>apple_27</td>\n",
       "      <td>[apple, 51, 3, 414, 350]</td>\n",
       "    </tr>\n",
       "    <tr>\n",
       "      <th>236</th>\n",
       "      <td>apple_63</td>\n",
       "      <td>[apple, 19, 1, 719, 708]</td>\n",
       "    </tr>\n",
       "    <tr>\n",
       "      <th>237</th>\n",
       "      <td>banana_64</td>\n",
       "      <td>[banana, 132, 98, 591, 348]</td>\n",
       "    </tr>\n",
       "    <tr>\n",
       "      <th>238</th>\n",
       "      <td>orange_53</td>\n",
       "      <td>[orange, 324, 291, 692, 680]</td>\n",
       "    </tr>\n",
       "    <tr>\n",
       "      <th>239</th>\n",
       "      <td>banana_54</td>\n",
       "      <td>[banana, 77, 230, 841, 572, banana, 363, 211, ...</td>\n",
       "    </tr>\n",
       "  </tbody>\n",
       "</table>\n",
       "<p>240 rows × 2 columns</p>\n",
       "</div>"
      ],
      "text/plain": [
       "       ImageId                                         ImageBoxes\n",
       "0     apple_28                          [apple, 25, 42, 275, 297]\n",
       "1    orange_22                         [orange, 75, 96, 531, 465]\n",
       "2     apple_65  [apple, 70, 25, 290, 226, apple, 35, 217, 253,...\n",
       "3    orange_41                       [orange, 390, 391, 815, 800]\n",
       "4    banana_67                         [banana, 19, 21, 337, 325]\n",
       "..         ...                                                ...\n",
       "235   apple_27                           [apple, 51, 3, 414, 350]\n",
       "236   apple_63                           [apple, 19, 1, 719, 708]\n",
       "237  banana_64                        [banana, 132, 98, 591, 348]\n",
       "238  orange_53                       [orange, 324, 291, 692, 680]\n",
       "239  banana_54  [banana, 77, 230, 841, 572, banana, 363, 211, ...\n",
       "\n",
       "[240 rows x 2 columns]"
      ]
     },
     "execution_count": 4,
     "metadata": {},
     "output_type": "execute_result"
    }
   ],
   "source": [
    "df_train"
   ]
  },
  {
   "cell_type": "code",
   "execution_count": 5,
   "metadata": {
    "execution": {
     "iopub.execute_input": "2021-10-30T20:28:39.598173Z",
     "iopub.status.busy": "2021-10-30T20:28:39.595784Z",
     "iopub.status.idle": "2021-10-30T20:28:40.020577Z",
     "shell.execute_reply": "2021-10-30T20:28:40.019700Z",
     "shell.execute_reply.started": "2021-10-30T20:28:39.598106Z"
    }
   },
   "outputs": [
    {
     "data": {
      "image/png": "[encoded data removed]",
      "text/plain": [
       "<Figure size 432x288 with 1 Axes>"
      ]
     },
     "metadata": {
      "needs_background": "light"
     },
     "output_type": "display_data"
    }
   ],
   "source": [
    "one_image_path = \"/kaggle/input/fruit-images-for-object-detection/train_zip/train/\"+\"orange_22\"+'.jpg'\n",
    "image = mpimg.imread(one_image_path)\n",
    "imgplot = plt.imshow(image)\n",
    "plt.show()"
   ]
  },
  {
   "cell_type": "code",
   "execution_count": 9,
   "metadata": {
    "execution": {
     "iopub.execute_input": "2021-10-30T20:28:56.170583Z",
     "iopub.status.busy": "2021-10-30T20:28:56.170061Z",
     "iopub.status.idle": "2021-10-30T20:28:56.176675Z",
     "shell.execute_reply": "2021-10-30T20:28:56.175737Z",
     "shell.execute_reply.started": "2021-10-30T20:28:56.170548Z"
    }
   },
   "outputs": [],
   "source": [
    "def tfmbb(bb,h,w):\n",
    "    bb_=[]\n",
    "    bb_.append((bb[0]/w))\n",
    "    bb_.append((bb[1]/h))\n",
    "    bb_.append((bb[2]/w))\n",
    "    bb_.append((bb[3]/h))\n",
    "    return bb_\n",
    "    \n",
    "    "
   ]
  },
  {
   "cell_type": "code",
   "execution_count": null,
   "metadata": {
    "execution": {
     "iopub.status.busy": "2021-10-30T20:28:40.050150Z",
     "iopub.status.idle": "2021-10-30T20:28:40.050783Z",
     "shell.execute_reply": "2021-10-30T20:28:40.050475Z",
     "shell.execute_reply.started": "2021-10-30T20:28:40.050451Z"
    }
   },
   "outputs": [],
   "source": [
    "df_train.size"
   ]
  },
  {
   "cell_type": "markdown",
   "metadata": {},
   "source": [
    "Dropping data with multiple bbox"
   ]
  },
  {
   "cell_type": "code",
   "execution_count": 11,
   "metadata": {
    "execution": {
     "iopub.execute_input": "2021-10-30T20:28:59.849156Z",
     "iopub.status.busy": "2021-10-30T20:28:59.848098Z",
     "iopub.status.idle": "2021-10-30T20:28:59.855596Z",
     "shell.execute_reply": "2021-10-30T20:28:59.854126Z",
     "shell.execute_reply.started": "2021-10-30T20:28:59.849102Z"
    }
   },
   "outputs": [],
   "source": [
    "def drop_multis(df):\n",
    "    l=[]\n",
    "    for i in range(0,df.shape[0]):\n",
    "        x=df.iloc[i]\n",
    "        if len(x['ImageBoxes'])>5:\n",
    "            l.append(i)\n",
    "    return l\n",
    "   \n",
    "\n",
    "    "
   ]
  },
  {
   "cell_type": "code",
   "execution_count": 12,
   "metadata": {
    "execution": {
     "iopub.execute_input": "2021-10-30T20:29:02.111364Z",
     "iopub.status.busy": "2021-10-30T20:29:02.111095Z",
     "iopub.status.idle": "2021-10-30T20:29:02.138593Z",
     "shell.execute_reply": "2021-10-30T20:29:02.137967Z",
     "shell.execute_reply.started": "2021-10-30T20:29:02.111329Z"
    }
   },
   "outputs": [],
   "source": [
    "l=drop_multis(df_train)"
   ]
  },
  {
   "cell_type": "code",
   "execution_count": 13,
   "metadata": {
    "execution": {
     "iopub.execute_input": "2021-10-30T20:29:02.474586Z",
     "iopub.status.busy": "2021-10-30T20:29:02.473819Z",
     "iopub.status.idle": "2021-10-30T20:29:02.479689Z",
     "shell.execute_reply": "2021-10-30T20:29:02.478980Z",
     "shell.execute_reply.started": "2021-10-30T20:29:02.474538Z"
    }
   },
   "outputs": [],
   "source": [
    "df_train=df_train.drop(l)"
   ]
  },
  {
   "cell_type": "code",
   "execution_count": 14,
   "metadata": {
    "execution": {
     "iopub.execute_input": "2021-10-30T20:29:02.633763Z",
     "iopub.status.busy": "2021-10-30T20:29:02.632941Z",
     "iopub.status.idle": "2021-10-30T20:29:02.644091Z",
     "shell.execute_reply": "2021-10-30T20:29:02.643275Z",
     "shell.execute_reply.started": "2021-10-30T20:29:02.633725Z"
    }
   },
   "outputs": [],
   "source": [
    "l=drop_multis(df_test)"
   ]
  },
  {
   "cell_type": "code",
   "execution_count": 15,
   "metadata": {
    "execution": {
     "iopub.execute_input": "2021-10-30T20:29:02.774000Z",
     "iopub.status.busy": "2021-10-30T20:29:02.773380Z",
     "iopub.status.idle": "2021-10-30T20:29:02.781607Z",
     "shell.execute_reply": "2021-10-30T20:29:02.780545Z",
     "shell.execute_reply.started": "2021-10-30T20:29:02.773956Z"
    }
   },
   "outputs": [],
   "source": [
    "df_test=df_test.drop(l)"
   ]
  },
  {
   "cell_type": "code",
   "execution_count": 16,
   "metadata": {
    "execution": {
     "iopub.execute_input": "2021-10-30T20:29:02.929652Z",
     "iopub.status.busy": "2021-10-30T20:29:02.929097Z",
     "iopub.status.idle": "2021-10-30T20:29:02.953703Z",
     "shell.execute_reply": "2021-10-30T20:29:02.952947Z",
     "shell.execute_reply.started": "2021-10-30T20:29:02.929596Z"
    }
   },
   "outputs": [
    {
     "data": {
      "text/html": [
       "<div>\n",
       "<style scoped>\n",
       "    .dataframe tbody tr th:only-of-type {\n",
       "        vertical-align: middle;\n",
       "    }\n",
       "\n",
       "    .dataframe tbody tr th {\n",
       "        vertical-align: top;\n",
       "    }\n",
       "\n",
       "    .dataframe thead th {\n",
       "        text-align: right;\n",
       "    }\n",
       "</style>\n",
       "<table border=\"1\" class=\"dataframe\">\n",
       "  <thead>\n",
       "    <tr style=\"text-align: right;\">\n",
       "      <th></th>\n",
       "      <th>ImageId</th>\n",
       "      <th>ImageBoxes</th>\n",
       "    </tr>\n",
       "  </thead>\n",
       "  <tbody>\n",
       "    <tr>\n",
       "      <th>0</th>\n",
       "      <td>banana_84</td>\n",
       "      <td>[banana, 85, 138, 553, 352]</td>\n",
       "    </tr>\n",
       "    <tr>\n",
       "      <th>2</th>\n",
       "      <td>banana_77</td>\n",
       "      <td>[banana, 29, 11, 246, 348]</td>\n",
       "    </tr>\n",
       "    <tr>\n",
       "      <th>3</th>\n",
       "      <td>apple_82</td>\n",
       "      <td>[apple, 65, 122, 365, 404]</td>\n",
       "    </tr>\n",
       "    <tr>\n",
       "      <th>5</th>\n",
       "      <td>orange_80</td>\n",
       "      <td>[orange, 150, 165, 923, 983]</td>\n",
       "    </tr>\n",
       "    <tr>\n",
       "      <th>9</th>\n",
       "      <td>apple_85</td>\n",
       "      <td>[apple, 88, 41, 415, 393]</td>\n",
       "    </tr>\n",
       "    <tr>\n",
       "      <th>13</th>\n",
       "      <td>orange_91</td>\n",
       "      <td>[orange, 166, 92, 638, 559]</td>\n",
       "    </tr>\n",
       "    <tr>\n",
       "      <th>14</th>\n",
       "      <td>orange_82</td>\n",
       "      <td>[orange, 61, 130, 415, 473]</td>\n",
       "    </tr>\n",
       "    <tr>\n",
       "      <th>16</th>\n",
       "      <td>orange_95</td>\n",
       "      <td>[orange, 146, 361, 1112, 1254]</td>\n",
       "    </tr>\n",
       "    <tr>\n",
       "      <th>17</th>\n",
       "      <td>apple_91</td>\n",
       "      <td>[apple, 227, 62, 723, 500]</td>\n",
       "    </tr>\n",
       "    <tr>\n",
       "      <th>18</th>\n",
       "      <td>orange_84</td>\n",
       "      <td>[orange, 145, 36, 421, 286]</td>\n",
       "    </tr>\n",
       "    <tr>\n",
       "      <th>20</th>\n",
       "      <td>apple_88</td>\n",
       "      <td>[apple, 242, 460, 963, 1229]</td>\n",
       "    </tr>\n",
       "    <tr>\n",
       "      <th>22</th>\n",
       "      <td>apple_83</td>\n",
       "      <td>[apple, 1, 1, 794, 738]</td>\n",
       "    </tr>\n",
       "    <tr>\n",
       "      <th>24</th>\n",
       "      <td>apple_78</td>\n",
       "      <td>[apple, 10, 8, 344, 336]</td>\n",
       "    </tr>\n",
       "    <tr>\n",
       "      <th>26</th>\n",
       "      <td>apple_80</td>\n",
       "      <td>[apple, 155, 105, 453, 436]</td>\n",
       "    </tr>\n",
       "    <tr>\n",
       "      <th>31</th>\n",
       "      <td>orange_92</td>\n",
       "      <td>[orange, 174, 20, 364, 199]</td>\n",
       "    </tr>\n",
       "    <tr>\n",
       "      <th>32</th>\n",
       "      <td>banana_82</td>\n",
       "      <td>[banana, 133, 165, 922, 525]</td>\n",
       "    </tr>\n",
       "    <tr>\n",
       "      <th>36</th>\n",
       "      <td>apple_81</td>\n",
       "      <td>[apple, 70, 398, 1388, 1731]</td>\n",
       "    </tr>\n",
       "    <tr>\n",
       "      <th>37</th>\n",
       "      <td>apple_90</td>\n",
       "      <td>[apple, 58, 124, 1776, 1910]</td>\n",
       "    </tr>\n",
       "    <tr>\n",
       "      <th>38</th>\n",
       "      <td>banana_79</td>\n",
       "      <td>[banana, 45, 228, 1232, 658]</td>\n",
       "    </tr>\n",
       "    <tr>\n",
       "      <th>39</th>\n",
       "      <td>apple_79</td>\n",
       "      <td>[apple, 77, 183, 641, 716]</td>\n",
       "    </tr>\n",
       "    <tr>\n",
       "      <th>40</th>\n",
       "      <td>apple_89</td>\n",
       "      <td>[apple, 19, 68, 278, 343]</td>\n",
       "    </tr>\n",
       "    <tr>\n",
       "      <th>41</th>\n",
       "      <td>orange_94</td>\n",
       "      <td>[orange, 111, 51, 372, 277]</td>\n",
       "    </tr>\n",
       "    <tr>\n",
       "      <th>42</th>\n",
       "      <td>banana_83</td>\n",
       "      <td>[banana, 63, 17, 560, 323]</td>\n",
       "    </tr>\n",
       "    <tr>\n",
       "      <th>43</th>\n",
       "      <td>banana_88</td>\n",
       "      <td>[banana, 203, 115, 584, 452]</td>\n",
       "    </tr>\n",
       "    <tr>\n",
       "      <th>44</th>\n",
       "      <td>banana_85</td>\n",
       "      <td>[banana, 419, 297, 2602, 1034]</td>\n",
       "    </tr>\n",
       "    <tr>\n",
       "      <th>46</th>\n",
       "      <td>orange_85</td>\n",
       "      <td>[orange, 48, 234, 593, 789]</td>\n",
       "    </tr>\n",
       "    <tr>\n",
       "      <th>47</th>\n",
       "      <td>banana_92</td>\n",
       "      <td>[banana, 5, 12, 333, 353]</td>\n",
       "    </tr>\n",
       "    <tr>\n",
       "      <th>49</th>\n",
       "      <td>apple_92</td>\n",
       "      <td>[apple, 77, 74, 540, 518]</td>\n",
       "    </tr>\n",
       "    <tr>\n",
       "      <th>53</th>\n",
       "      <td>apple_87</td>\n",
       "      <td>[apple, 43, 134, 358, 455]</td>\n",
       "    </tr>\n",
       "    <tr>\n",
       "      <th>54</th>\n",
       "      <td>apple_93</td>\n",
       "      <td>[apple, 143, 40, 415, 346]</td>\n",
       "    </tr>\n",
       "    <tr>\n",
       "      <th>56</th>\n",
       "      <td>orange_78</td>\n",
       "      <td>[orange, 279, 14, 562, 295]</td>\n",
       "    </tr>\n",
       "    <tr>\n",
       "      <th>57</th>\n",
       "      <td>orange_83</td>\n",
       "      <td>[orange, 75, 62, 711, 745]</td>\n",
       "    </tr>\n",
       "    <tr>\n",
       "      <th>59</th>\n",
       "      <td>banana_94</td>\n",
       "      <td>[banana, 1, 4, 348, 309]</td>\n",
       "    </tr>\n",
       "  </tbody>\n",
       "</table>\n",
       "</div>"
      ],
      "text/plain": [
       "      ImageId                      ImageBoxes\n",
       "0   banana_84     [banana, 85, 138, 553, 352]\n",
       "2   banana_77      [banana, 29, 11, 246, 348]\n",
       "3    apple_82      [apple, 65, 122, 365, 404]\n",
       "5   orange_80    [orange, 150, 165, 923, 983]\n",
       "9    apple_85       [apple, 88, 41, 415, 393]\n",
       "13  orange_91     [orange, 166, 92, 638, 559]\n",
       "14  orange_82     [orange, 61, 130, 415, 473]\n",
       "16  orange_95  [orange, 146, 361, 1112, 1254]\n",
       "17   apple_91      [apple, 227, 62, 723, 500]\n",
       "18  orange_84     [orange, 145, 36, 421, 286]\n",
       "20   apple_88    [apple, 242, 460, 963, 1229]\n",
       "22   apple_83         [apple, 1, 1, 794, 738]\n",
       "24   apple_78        [apple, 10, 8, 344, 336]\n",
       "26   apple_80     [apple, 155, 105, 453, 436]\n",
       "31  orange_92     [orange, 174, 20, 364, 199]\n",
       "32  banana_82    [banana, 133, 165, 922, 525]\n",
       "36   apple_81    [apple, 70, 398, 1388, 1731]\n",
       "37   apple_90    [apple, 58, 124, 1776, 1910]\n",
       "38  banana_79    [banana, 45, 228, 1232, 658]\n",
       "39   apple_79      [apple, 77, 183, 641, 716]\n",
       "40   apple_89       [apple, 19, 68, 278, 343]\n",
       "41  orange_94     [orange, 111, 51, 372, 277]\n",
       "42  banana_83      [banana, 63, 17, 560, 323]\n",
       "43  banana_88    [banana, 203, 115, 584, 452]\n",
       "44  banana_85  [banana, 419, 297, 2602, 1034]\n",
       "46  orange_85     [orange, 48, 234, 593, 789]\n",
       "47  banana_92       [banana, 5, 12, 333, 353]\n",
       "49   apple_92       [apple, 77, 74, 540, 518]\n",
       "53   apple_87      [apple, 43, 134, 358, 455]\n",
       "54   apple_93      [apple, 143, 40, 415, 346]\n",
       "56  orange_78     [orange, 279, 14, 562, 295]\n",
       "57  orange_83      [orange, 75, 62, 711, 745]\n",
       "59  banana_94        [banana, 1, 4, 348, 309]"
      ]
     },
     "execution_count": 16,
     "metadata": {},
     "output_type": "execute_result"
    }
   ],
   "source": [
    "df_test"
   ]
  },
  {
   "cell_type": "code",
   "execution_count": 20,
   "metadata": {
    "execution": {
     "iopub.execute_input": "2021-10-30T20:29:15.123829Z",
     "iopub.status.busy": "2021-10-30T20:29:15.123389Z",
     "iopub.status.idle": "2021-10-30T20:29:15.140755Z",
     "shell.execute_reply": "2021-10-30T20:29:15.140075Z",
     "shell.execute_reply.started": "2021-10-30T20:29:15.123795Z"
    }
   },
   "outputs": [],
   "source": [
    "train_labels=[]\n",
    "train_boxes=[]\n",
    "for i in range(df_train.shape[0]):\n",
    "    \n",
    "    x=df_train.iloc[i][\"ImageBoxes\"]\n",
    "    train_labels.append(classes.index(x[0]))\n",
    "    train_boxes.append(x[1:])\n",
    "    "
   ]
  },
  {
   "cell_type": "code",
   "execution_count": 19,
   "metadata": {
    "execution": {
     "iopub.execute_input": "2021-10-30T20:29:13.429500Z",
     "iopub.status.busy": "2021-10-30T20:29:13.429222Z",
     "iopub.status.idle": "2021-10-30T20:29:13.436760Z",
     "shell.execute_reply": "2021-10-30T20:29:13.436098Z",
     "shell.execute_reply.started": "2021-10-30T20:29:13.429470Z"
    }
   },
   "outputs": [],
   "source": [
    "test_labels=[]\n",
    "test_boxes=[]\n",
    "for i in range(df_test.shape[0]):\n",
    "    \n",
    "    x=df_test.iloc[i][\"ImageBoxes\"]\n",
    "    test_labels.append(classes.index(x[0]))\n",
    "    test_boxes.append(x[1:])\n",
    "    "
   ]
  },
  {
   "cell_type": "code",
   "execution_count": 18,
   "metadata": {
    "execution": {
     "iopub.execute_input": "2021-10-30T20:29:11.867570Z",
     "iopub.status.busy": "2021-10-30T20:29:11.866911Z",
     "iopub.status.idle": "2021-10-30T20:29:11.871251Z",
     "shell.execute_reply": "2021-10-30T20:29:11.870541Z",
     "shell.execute_reply.started": "2021-10-30T20:29:11.867536Z"
    }
   },
   "outputs": [],
   "source": [
    "classes=['apple','orange','banana']"
   ]
  },
  {
   "cell_type": "code",
   "execution_count": 21,
   "metadata": {
    "execution": {
     "iopub.execute_input": "2021-10-30T20:29:21.634448Z",
     "iopub.status.busy": "2021-10-30T20:29:21.633762Z",
     "iopub.status.idle": "2021-10-30T20:29:21.639054Z",
     "shell.execute_reply": "2021-10-30T20:29:21.638354Z",
     "shell.execute_reply.started": "2021-10-30T20:29:21.634411Z"
    }
   },
   "outputs": [],
   "source": [
    "def get_size(imgId):\n",
    "    img_path=\"/kaggle/input/fruit-images-for-object-detection/train_zip/train/\"+imgId+'.jpg'\n",
    "    img=cv2.imread(img_path)\n",
    "    width=img.shape[1]\n",
    "    height=img.shape[0]\n",
    "    return height,width\n",
    "\n",
    "                   \n",
    "    \n",
    "    "
   ]
  },
  {
   "cell_type": "code",
   "execution_count": 22,
   "metadata": {
    "execution": {
     "iopub.execute_input": "2021-10-30T20:29:21.768812Z",
     "iopub.status.busy": "2021-10-30T20:29:21.768167Z",
     "iopub.status.idle": "2021-10-30T20:29:21.776051Z",
     "shell.execute_reply": "2021-10-30T20:29:21.775314Z",
     "shell.execute_reply.started": "2021-10-30T20:29:21.768774Z"
    }
   },
   "outputs": [],
   "source": [
    "def get_size_test(imgId):\n",
    "    img_path=\"/kaggle/input/fruit-images-for-object-detection/test_zip/test/\"+imgId+'.jpg'\n",
    "    img=cv2.imread(img_path)\n",
    "    width=img.shape[1]\n",
    "    height=img.shape[0]\n",
    "    return height,width\n"
   ]
  },
  {
   "cell_type": "code",
   "execution_count": 23,
   "metadata": {
    "execution": {
     "iopub.execute_input": "2021-10-30T20:29:21.916569Z",
     "iopub.status.busy": "2021-10-30T20:29:21.915836Z",
     "iopub.status.idle": "2021-10-30T20:29:26.160905Z",
     "shell.execute_reply": "2021-10-30T20:29:26.160141Z",
     "shell.execute_reply.started": "2021-10-30T20:29:21.916533Z"
    }
   },
   "outputs": [],
   "source": [
    "train_boxes1=[]\n",
    "for i in range(len(train_boxes)):\n",
    "    x=df_train.iloc[i][\"ImageId\"]\n",
    "    h=get_size(x)[0]\n",
    "    w=get_size(x)[1]\n",
    "    train_boxes1.append(tfmbb(train_boxes[i],h,w))\n",
    "    "
   ]
  },
  {
   "cell_type": "code",
   "execution_count": 24,
   "metadata": {
    "execution": {
     "iopub.execute_input": "2021-10-30T20:29:26.162806Z",
     "iopub.status.busy": "2021-10-30T20:29:26.162532Z",
     "iopub.status.idle": "2021-10-30T20:29:27.124677Z",
     "shell.execute_reply": "2021-10-30T20:29:27.123943Z",
     "shell.execute_reply.started": "2021-10-30T20:29:26.162771Z"
    }
   },
   "outputs": [],
   "source": [
    "test_boxes1=[]\n",
    "for i in range(len(test_boxes)):\n",
    "    x=df_test.iloc[i][\"ImageId\"]\n",
    "    h=get_size_test(x)[0]\n",
    "    w=get_size_test(x)[1]\n",
    "    test_boxes1.append(tfmbb(test_boxes[i],h,w))"
   ]
  },
  {
   "cell_type": "code",
   "execution_count": 25,
   "metadata": {
    "execution": {
     "iopub.execute_input": "2021-10-30T20:29:27.128079Z",
     "iopub.status.busy": "2021-10-30T20:29:27.127873Z",
     "iopub.status.idle": "2021-10-30T20:29:27.137662Z",
     "shell.execute_reply": "2021-10-30T20:29:27.136568Z",
     "shell.execute_reply.started": "2021-10-30T20:29:27.128055Z"
    }
   },
   "outputs": [
    {
     "data": {
      "text/plain": [
       "[[0.13076923076923078,\n",
       "  0.3770491803278688,\n",
       "  0.8507692307692307,\n",
       "  0.9617486338797814],\n",
       " [0.09666666666666666, 0.030555555555555555, 0.82, 0.9666666666666667],\n",
       " [0.15625, 0.25957446808510637, 0.8774038461538461, 0.8595744680851064],\n",
       " [0.1, 0.14666666666666667, 0.6153333333333333, 0.8737777777777778],\n",
       " [0.176, 0.1025, 0.83, 0.9825],\n",
       " [0.2075, 0.13609467455621302, 0.7975, 0.8269230769230769],\n",
       " [0.09384615384615384,\n",
       "  0.19969278033794163,\n",
       "  0.6384615384615384,\n",
       "  0.7265745007680492],\n",
       " [0.10735294117647058,\n",
       "  0.26159420289855073,\n",
       "  0.8176470588235294,\n",
       "  0.908695652173913],\n",
       " [0.23645833333333333, 0.1082024432809773, 0.753125, 0.8726003490401396],\n",
       " [0.31521739130434784, 0.1, 0.9152173913043479, 0.7944444444444444],\n",
       " [0.18615384615384614,\n",
       "  0.35384615384615387,\n",
       "  0.7407692307692307,\n",
       "  0.9453846153846154],\n",
       " [0.00125, 0.0013422818791946308, 0.9925, 0.9906040268456375],\n",
       " [0.02857142857142857, 0.022857142857142857, 0.9828571428571429, 0.96],\n",
       " [0.25833333333333336, 0.21, 0.755, 0.872],\n",
       " [0.4461538461538462,\n",
       "  0.07874015748031496,\n",
       "  0.9333333333333333,\n",
       "  0.7834645669291339],\n",
       " [0.133, 0.24737631184407796, 0.922, 0.7871064467766117],\n",
       " [0.04666666666666667,\n",
       "  0.22755860491709548,\n",
       "  0.9253333333333333,\n",
       "  0.9897084048027445],\n",
       " [0.03197353914002205, 0.062, 0.9790518191841234, 0.955],\n",
       " [0.03461538461538462,\n",
       "  0.2860727728983689,\n",
       "  0.9476923076923077,\n",
       "  0.8255959849435383],\n",
       " [0.10694444444444444,\n",
       "  0.25416666666666665,\n",
       "  0.8902777777777777,\n",
       "  0.9944444444444445],\n",
       " [0.05956112852664577,\n",
       "  0.18681318681318682,\n",
       "  0.8714733542319749,\n",
       "  0.9423076923076923],\n",
       " [0.2727272727272727,\n",
       "  0.14488636363636365,\n",
       "  0.914004914004914,\n",
       "  0.7869318181818182],\n",
       " [0.1, 0.04788732394366197, 0.8888888888888888, 0.9098591549295775],\n",
       " [0.2773224043715847,\n",
       "  0.20947176684881602,\n",
       "  0.7978142076502732,\n",
       "  0.8233151183970856],\n",
       " [0.15640164240388205,\n",
       "  0.19721115537848605,\n",
       "  0.9712579320642031,\n",
       "  0.6865869853917662],\n",
       " [0.07407407407407407,\n",
       "  0.2708333333333333,\n",
       "  0.9151234567901234,\n",
       "  0.9131944444444444],\n",
       " [0.014534883720930232,\n",
       "  0.03380281690140845,\n",
       "  0.9680232558139535,\n",
       "  0.9943661971830986],\n",
       " [0.12833333333333333, 0.12333333333333334, 0.9, 0.8633333333333333],\n",
       " [0.08958333333333333,\n",
       "  0.2791666666666667,\n",
       "  0.7458333333333333,\n",
       "  0.9479166666666666],\n",
       " [0.2708333333333333,\n",
       "  0.11428571428571428,\n",
       "  0.7859848484848485,\n",
       "  0.9885714285714285],\n",
       " [0.45365853658536587,\n",
       "  0.04713804713804714,\n",
       "  0.9138211382113821,\n",
       "  0.9932659932659933],\n",
       " [0.09375, 0.0775, 0.88875, 0.93125],\n",
       " [0.0028169014084507044,\n",
       "  0.01282051282051282,\n",
       "  0.9802816901408451,\n",
       "  0.9903846153846154]]"
      ]
     },
     "execution_count": 25,
     "metadata": {},
     "output_type": "execute_result"
    }
   ],
   "source": [
    "test_boxes1"
   ]
  },
  {
   "cell_type": "code",
   "execution_count": 26,
   "metadata": {
    "execution": {
     "iopub.execute_input": "2021-10-30T20:29:27.139578Z",
     "iopub.status.busy": "2021-10-30T20:29:27.139344Z",
     "iopub.status.idle": "2021-10-30T20:29:28.775339Z",
     "shell.execute_reply": "2021-10-30T20:29:28.774647Z",
     "shell.execute_reply.started": "2021-10-30T20:29:27.139555Z"
    }
   },
   "outputs": [
    {
     "name": "stderr",
     "output_type": "stream",
     "text": [
      "/opt/conda/lib/python3.7/site-packages/PIL/Image.py:963: UserWarning: Palette images with Transparency expressed in bytes should be converted to RGBA images\n",
      "  \"Palette images with Transparency expressed in bytes should be \"\n"
     ]
    }
   ],
   "source": [
    "train_imgs=[]\n",
    "height=224\n",
    "width=224\n",
    "for i in range(df_train.shape[0]):\n",
    "    x=df_train.iloc[i][\"ImageId\"]\n",
    "    img_path=\"/kaggle/input/fruit-images-for-object-detection/train_zip/train/\"+x+'.jpg'\n",
    "    train_img =load_img(img_path, target_size=(height, width))\n",
    "    train_imgs.append(img_to_array(train_img))"
   ]
  },
  {
   "cell_type": "code",
   "execution_count": 27,
   "metadata": {
    "execution": {
     "iopub.execute_input": "2021-10-30T20:29:28.777768Z",
     "iopub.status.busy": "2021-10-30T20:29:28.777253Z",
     "iopub.status.idle": "2021-10-30T20:29:29.185845Z",
     "shell.execute_reply": "2021-10-30T20:29:29.185128Z",
     "shell.execute_reply.started": "2021-10-30T20:29:28.777728Z"
    }
   },
   "outputs": [],
   "source": [
    "test_imgs=[]\n",
    "height=224\n",
    "width=224\n",
    "for i in range(df_test.shape[0]):\n",
    "    x=df_test.iloc[i][\"ImageId\"]\n",
    "    img_path=\"/kaggle/input/fruit-images-for-object-detection/test_zip/test/\"+x+'.jpg'\n",
    "    test_img =load_img(img_path, target_size=(height, width))\n",
    "    test_imgs.append(img_to_array(test_img))"
   ]
  },
  {
   "cell_type": "code",
   "execution_count": 28,
   "metadata": {
    "execution": {
     "iopub.execute_input": "2021-10-30T20:29:29.188117Z",
     "iopub.status.busy": "2021-10-30T20:29:29.187854Z",
     "iopub.status.idle": "2021-10-30T20:29:29.224314Z",
     "shell.execute_reply": "2021-10-30T20:29:29.223582Z",
     "shell.execute_reply.started": "2021-10-30T20:29:29.188084Z"
    }
   },
   "outputs": [],
   "source": [
    "train_imgs=np.array(train_imgs)\n",
    "train_labels=np.array(train_labels)\n",
    "train_boxes=np.array(train_boxes1)\n",
    "\n",
    "test_imgs=np.array(test_imgs)\n",
    "test_labels=np.array(test_labels)\n",
    "test_boxes=np.array(test_boxes1)\n"
   ]
  },
  {
   "cell_type": "code",
   "execution_count": 36,
   "metadata": {
    "execution": {
     "iopub.execute_input": "2021-10-30T20:29:58.484616Z",
     "iopub.status.busy": "2021-10-30T20:29:58.484336Z",
     "iopub.status.idle": "2021-10-30T20:30:00.549394Z",
     "shell.execute_reply": "2021-10-30T20:30:00.548698Z",
     "shell.execute_reply.started": "2021-10-30T20:29:58.484585Z"
    }
   },
   "outputs": [
    {
     "name": "stderr",
     "output_type": "stream",
     "text": [
      "2021-10-30 20:29:58.685385: I tensorflow/compiler/jit/xla_cpu_device.cc:41] Not creating XLA devices, tf_xla_enable_xla_devices not set\n",
      "2021-10-30 20:29:58.688659: I tensorflow/stream_executor/platform/default/dso_loader.cc:49] Successfully opened dynamic library libcuda.so.1\n",
      "2021-10-30 20:29:58.734474: I tensorflow/stream_executor/cuda/cuda_gpu_executor.cc:941] successful NUMA node read from SysFS had negative value (-1), but there must be at least one NUMA node, so returning NUMA node zero\n",
      "2021-10-30 20:29:58.735097: I tensorflow/core/common_runtime/gpu/gpu_device.cc:1720] Found device 0 with properties: \n",
      "pciBusID: 0000:00:04.0 name: Tesla P100-PCIE-16GB computeCapability: 6.0\n",
      "coreClock: 1.3285GHz coreCount: 56 deviceMemorySize: 15.90GiB deviceMemoryBandwidth: 681.88GiB/s\n",
      "2021-10-30 20:29:58.735148: I tensorflow/stream_executor/platform/default/dso_loader.cc:49] Successfully opened dynamic library libcudart.so.11.0\n",
      "2021-10-30 20:29:58.760917: I tensorflow/stream_executor/platform/default/dso_loader.cc:49] Successfully opened dynamic library libcublas.so.11\n",
      "2021-10-30 20:29:58.761057: I tensorflow/stream_executor/platform/default/dso_loader.cc:49] Successfully opened dynamic library libcublasLt.so.11\n",
      "2021-10-30 20:29:58.775335: I tensorflow/stream_executor/platform/default/dso_loader.cc:49] Successfully opened dynamic library libcufft.so.10\n",
      "2021-10-30 20:29:58.783522: I tensorflow/stream_executor/platform/default/dso_loader.cc:49] Successfully opened dynamic library libcurand.so.10\n",
      "2021-10-30 20:29:58.806977: I tensorflow/stream_executor/platform/default/dso_loader.cc:49] Successfully opened dynamic library libcusolver.so.10\n",
      "2021-10-30 20:29:58.814163: I tensorflow/stream_executor/platform/default/dso_loader.cc:49] Successfully opened dynamic library libcusparse.so.11\n",
      "2021-10-30 20:29:58.817690: I tensorflow/stream_executor/platform/default/dso_loader.cc:49] Successfully opened dynamic library libcudnn.so.8\n",
      "2021-10-30 20:29:58.817897: I tensorflow/stream_executor/cuda/cuda_gpu_executor.cc:941] successful NUMA node read from SysFS had negative value (-1), but there must be at least one NUMA node, so returning NUMA node zero\n",
      "2021-10-30 20:29:58.818597: I tensorflow/stream_executor/cuda/cuda_gpu_executor.cc:941] successful NUMA node read from SysFS had negative value (-1), but there must be at least one NUMA node, so returning NUMA node zero\n",
      "2021-10-30 20:29:58.820185: I tensorflow/core/common_runtime/gpu/gpu_device.cc:1862] Adding visible gpu devices: 0\n",
      "2021-10-30 20:29:58.820685: I tensorflow/core/platform/cpu_feature_guard.cc:142] This TensorFlow binary is optimized with oneAPI Deep Neural Network Library (oneDNN) to use the following CPU instructions in performance-critical operations:  AVX2 AVX512F FMA\n",
      "To enable them in other operations, rebuild TensorFlow with the appropriate compiler flags.\n",
      "2021-10-30 20:29:58.820903: I tensorflow/compiler/jit/xla_gpu_device.cc:99] Not creating XLA devices, tf_xla_enable_xla_devices not set\n",
      "2021-10-30 20:29:58.821097: I tensorflow/stream_executor/cuda/cuda_gpu_executor.cc:941] successful NUMA node read from SysFS had negative value (-1), but there must be at least one NUMA node, so returning NUMA node zero\n",
      "2021-10-30 20:29:58.821704: I tensorflow/core/common_runtime/gpu/gpu_device.cc:1720] Found device 0 with properties: \n",
      "pciBusID: 0000:00:04.0 name: Tesla P100-PCIE-16GB computeCapability: 6.0\n",
      "coreClock: 1.3285GHz coreCount: 56 deviceMemorySize: 15.90GiB deviceMemoryBandwidth: 681.88GiB/s\n",
      "2021-10-30 20:29:58.821759: I tensorflow/stream_executor/platform/default/dso_loader.cc:49] Successfully opened dynamic library libcudart.so.11.0\n",
      "2021-10-30 20:29:58.821799: I tensorflow/stream_executor/platform/default/dso_loader.cc:49] Successfully opened dynamic library libcublas.so.11\n",
      "2021-10-30 20:29:58.821822: I tensorflow/stream_executor/platform/default/dso_loader.cc:49] Successfully opened dynamic library libcublasLt.so.11\n",
      "2021-10-30 20:29:58.821844: I tensorflow/stream_executor/platform/default/dso_loader.cc:49] Successfully opened dynamic library libcufft.so.10\n",
      "2021-10-30 20:29:58.821886: I tensorflow/stream_executor/platform/default/dso_loader.cc:49] Successfully opened dynamic library libcurand.so.10\n",
      "2021-10-30 20:29:58.821909: I tensorflow/stream_executor/platform/default/dso_loader.cc:49] Successfully opened dynamic library libcusolver.so.10\n",
      "2021-10-30 20:29:58.821934: I tensorflow/stream_executor/platform/default/dso_loader.cc:49] Successfully opened dynamic library libcusparse.so.11\n",
      "2021-10-30 20:29:58.821956: I tensorflow/stream_executor/platform/default/dso_loader.cc:49] Successfully opened dynamic library libcudnn.so.8\n",
      "2021-10-30 20:29:58.822073: I tensorflow/stream_executor/cuda/cuda_gpu_executor.cc:941] successful NUMA node read from SysFS had negative value (-1), but there must be at least one NUMA node, so returning NUMA node zero\n",
      "2021-10-30 20:29:58.822797: I tensorflow/stream_executor/cuda/cuda_gpu_executor.cc:941] successful NUMA node read from SysFS had negative value (-1), but there must be at least one NUMA node, so returning NUMA node zero\n",
      "2021-10-30 20:29:58.823363: I tensorflow/core/common_runtime/gpu/gpu_device.cc:1862] Adding visible gpu devices: 0\n",
      "2021-10-30 20:29:58.824393: I tensorflow/stream_executor/platform/default/dso_loader.cc:49] Successfully opened dynamic library libcudart.so.11.0\n",
      "2021-10-30 20:30:00.202978: I tensorflow/core/common_runtime/gpu/gpu_device.cc:1261] Device interconnect StreamExecutor with strength 1 edge matrix:\n",
      "2021-10-30 20:30:00.203027: I tensorflow/core/common_runtime/gpu/gpu_device.cc:1267]      0 \n",
      "2021-10-30 20:30:00.203037: I tensorflow/core/common_runtime/gpu/gpu_device.cc:1280] 0:   N \n",
      "2021-10-30 20:30:00.205160: I tensorflow/stream_executor/cuda/cuda_gpu_executor.cc:941] successful NUMA node read from SysFS had negative value (-1), but there must be at least one NUMA node, so returning NUMA node zero\n",
      "2021-10-30 20:30:00.205952: I tensorflow/stream_executor/cuda/cuda_gpu_executor.cc:941] successful NUMA node read from SysFS had negative value (-1), but there must be at least one NUMA node, so returning NUMA node zero\n",
      "2021-10-30 20:30:00.206576: I tensorflow/stream_executor/cuda/cuda_gpu_executor.cc:941] successful NUMA node read from SysFS had negative value (-1), but there must be at least one NUMA node, so returning NUMA node zero\n",
      "2021-10-30 20:30:00.207138: I tensorflow/core/common_runtime/gpu/gpu_device.cc:1406] Created TensorFlow device (/job:localhost/replica:0/task:0/device:GPU:0 with 14957 MB memory) -> physical GPU (device: 0, name: Tesla P100-PCIE-16GB, pci bus id: 0000:00:04.0, compute capability: 6.0)\n"
     ]
    }
   ],
   "source": [
    "input_shape = (height, width, 3)\n",
    "input_layer = layers.Input(input_shape)\n",
    "\n",
    "#create the base layers\n",
    "base_layers = layers.experimental.preprocessing.Rescaling(1./255, name='bl_1')(input_layer)\n",
    "base_layers = layers.Conv2D(16, 3, padding='same', activation='relu', name='bl_2')(base_layers)\n",
    "base_layers = layers.MaxPooling2D(name='bl_3')(base_layers)\n",
    "base_layers = layers.Conv2D(32, 3, padding='same', activation='relu', name='bl_4')(base_layers)\n",
    "base_layers = layers.MaxPooling2D(name='bl_5')(base_layers)\n",
    "base_layers = layers.Conv2D(64, 3, padding='same', activation='relu', name='bl_6')(base_layers)\n",
    "base_layers = layers.MaxPooling2D(name='bl_7')(base_layers)\n",
    "base_layers = layers.Flatten(name='bl_8')(base_layers)"
   ]
  },
  {
   "cell_type": "code",
   "execution_count": 37,
   "metadata": {
    "execution": {
     "iopub.execute_input": "2021-10-30T20:30:00.552941Z",
     "iopub.status.busy": "2021-10-30T20:30:00.552434Z",
     "iopub.status.idle": "2021-10-30T20:30:00.570197Z",
     "shell.execute_reply": "2021-10-30T20:30:00.569603Z",
     "shell.execute_reply.started": "2021-10-30T20:30:00.552913Z"
    }
   },
   "outputs": [],
   "source": [
    "classifier_branch = layers.Dense(128, activation='relu', name='cl_1')(base_layers)\n",
    "classifier_branch = layers.Dense(3, name='cl_head')(classifier_branch)"
   ]
  },
  {
   "cell_type": "code",
   "execution_count": 40,
   "metadata": {
    "execution": {
     "iopub.execute_input": "2021-10-30T20:30:46.885955Z",
     "iopub.status.busy": "2021-10-30T20:30:46.885221Z",
     "iopub.status.idle": "2021-10-30T20:30:46.919045Z",
     "shell.execute_reply": "2021-10-30T20:30:46.918374Z",
     "shell.execute_reply.started": "2021-10-30T20:30:46.885917Z"
    }
   },
   "outputs": [],
   "source": [
    "bboxHead = Dense(128, activation=\"relu\",name='bb1')(base_layers)\n",
    "bboxHead = Dense(64, activation=\"relu\",name='bb2')(bboxHead)\n",
    "bboxHead = Dense(32, activation=\"relu\",name='bb3')(bboxHead)\n",
    "bboxHead = Dense(4, activation=\"sigmoid\",name='bb_head')(bboxHead)\n",
    "\n"
   ]
  },
  {
   "cell_type": "code",
   "execution_count": 41,
   "metadata": {
    "execution": {
     "iopub.execute_input": "2021-10-30T20:30:51.197706Z",
     "iopub.status.busy": "2021-10-30T20:30:51.197419Z",
     "iopub.status.idle": "2021-10-30T20:30:51.208765Z",
     "shell.execute_reply": "2021-10-30T20:30:51.207954Z",
     "shell.execute_reply.started": "2021-10-30T20:30:51.197677Z"
    }
   },
   "outputs": [],
   "source": [
    "model = Model(input_layer,\n",
    "           outputs=[classifier_branch,bboxHead])"
   ]
  },
  {
   "cell_type": "code",
   "execution_count": 42,
   "metadata": {
    "execution": {
     "iopub.execute_input": "2021-10-30T20:30:51.660414Z",
     "iopub.status.busy": "2021-10-30T20:30:51.660148Z",
     "iopub.status.idle": "2021-10-30T20:30:51.680195Z",
     "shell.execute_reply": "2021-10-30T20:30:51.679519Z",
     "shell.execute_reply.started": "2021-10-30T20:30:51.660386Z"
    }
   },
   "outputs": [
    {
     "name": "stdout",
     "output_type": "stream",
     "text": [
      "Model: \"model\"\n",
      "__________________________________________________________________________________________________\n",
      "Layer (type)                    Output Shape         Param #     Connected to                     \n",
      "==================================================================================================\n",
      "input_1 (InputLayer)            [(None, 224, 224, 3) 0                                            \n",
      "__________________________________________________________________________________________________\n",
      "bl_1 (Rescaling)                (None, 224, 224, 3)  0           input_1[0][0]                    \n",
      "__________________________________________________________________________________________________\n",
      "bl_2 (Conv2D)                   (None, 224, 224, 16) 448         bl_1[0][0]                       \n",
      "__________________________________________________________________________________________________\n",
      "bl_3 (MaxPooling2D)             (None, 112, 112, 16) 0           bl_2[0][0]                       \n",
      "__________________________________________________________________________________________________\n",
      "bl_4 (Conv2D)                   (None, 112, 112, 32) 4640        bl_3[0][0]                       \n",
      "__________________________________________________________________________________________________\n",
      "bl_5 (MaxPooling2D)             (None, 56, 56, 32)   0           bl_4[0][0]                       \n",
      "__________________________________________________________________________________________________\n",
      "bl_6 (Conv2D)                   (None, 56, 56, 64)   18496       bl_5[0][0]                       \n",
      "__________________________________________________________________________________________________\n",
      "bl_7 (MaxPooling2D)             (None, 28, 28, 64)   0           bl_6[0][0]                       \n",
      "__________________________________________________________________________________________________\n",
      "bl_8 (Flatten)                  (None, 50176)        0           bl_7[0][0]                       \n",
      "__________________________________________________________________________________________________\n",
      "bb1 (Dense)                     (None, 128)          6422656     bl_8[0][0]                       \n",
      "__________________________________________________________________________________________________\n",
      "bb2 (Dense)                     (None, 64)           8256        bb1[0][0]                        \n",
      "__________________________________________________________________________________________________\n",
      "cl_1 (Dense)                    (None, 128)          6422656     bl_8[0][0]                       \n",
      "__________________________________________________________________________________________________\n",
      "bb3 (Dense)                     (None, 32)           2080        bb2[0][0]                        \n",
      "__________________________________________________________________________________________________\n",
      "cl_head (Dense)                 (None, 3)            387         cl_1[0][0]                       \n",
      "__________________________________________________________________________________________________\n",
      "bb_head (Dense)                 (None, 4)            132         bb3[0][0]                        \n",
      "==================================================================================================\n",
      "Total params: 12,879,751\n",
      "Trainable params: 12,879,751\n",
      "Non-trainable params: 0\n",
      "__________________________________________________________________________________________________\n",
      "None\n"
     ]
    }
   ],
   "source": [
    "print(model.summary())"
   ]
  },
  {
   "cell_type": "code",
   "execution_count": 46,
   "metadata": {
    "execution": {
     "iopub.execute_input": "2021-10-30T20:31:02.402769Z",
     "iopub.status.busy": "2021-10-30T20:31:02.401970Z",
     "iopub.status.idle": "2021-10-30T20:31:02.411190Z",
     "shell.execute_reply": "2021-10-30T20:31:02.410438Z",
     "shell.execute_reply.started": "2021-10-30T20:31:02.402718Z"
    }
   },
   "outputs": [],
   "source": [
    "losses = {\"cl_head\":tf.keras.losses.SparseCategoricalCrossentropy(from_logits=True), \n",
    "   \"bb_head\":tf.keras.losses.MSE}"
   ]
  },
  {
   "cell_type": "code",
   "execution_count": 47,
   "metadata": {
    "execution": {
     "iopub.execute_input": "2021-10-30T20:31:04.370246Z",
     "iopub.status.busy": "2021-10-30T20:31:04.369953Z",
     "iopub.status.idle": "2021-10-30T20:31:04.390034Z",
     "shell.execute_reply": "2021-10-30T20:31:04.389043Z",
     "shell.execute_reply.started": "2021-10-30T20:31:04.370214Z"
    }
   },
   "outputs": [],
   "source": [
    "model.compile(loss=losses, optimizer='Adam', metrics=['accuracy'])\n"
   ]
  },
  {
   "cell_type": "code",
   "execution_count": 48,
   "metadata": {
    "execution": {
     "iopub.execute_input": "2021-10-30T20:31:06.669698Z",
     "iopub.status.busy": "2021-10-30T20:31:06.668918Z",
     "iopub.status.idle": "2021-10-30T20:31:06.674356Z",
     "shell.execute_reply": "2021-10-30T20:31:06.673596Z",
     "shell.execute_reply.started": "2021-10-30T20:31:06.669652Z"
    }
   },
   "outputs": [],
   "source": [
    "trainTargets = {\n",
    "    \"cl_head\": train_labels,\n",
    "    \"bb_head\": train_boxes\n",
    "}\n",
    "validationTargets = {\n",
    "    \"cl_head\": test_labels,\n",
    "    \"bb_head\": test_boxes\n",
    "}"
   ]
  },
  {
   "cell_type": "code",
   "execution_count": 51,
   "metadata": {
    "execution": {
     "iopub.execute_input": "2021-10-30T20:31:41.031913Z",
     "iopub.status.busy": "2021-10-30T20:31:41.031641Z",
     "iopub.status.idle": "2021-10-30T20:31:47.438503Z",
     "shell.execute_reply": "2021-10-30T20:31:47.437836Z",
     "shell.execute_reply.started": "2021-10-30T20:31:41.031884Z"
    }
   },
   "outputs": [
    {
     "name": "stdout",
     "output_type": "stream",
     "text": [
      "Epoch 1/20\n",
      "35/35 [==============================] - 0s 10ms/step - loss: 0.0017 - cl_head_loss: 7.5124e-05 - bb_head_loss: 0.0016 - cl_head_accuracy: 1.0000 - bb_head_accuracy: 0.8786 - val_loss: 0.3411 - val_cl_head_loss: 0.3325 - val_bb_head_loss: 0.0086 - val_cl_head_accuracy: 0.9697 - val_bb_head_accuracy: 0.8485\n",
      "Epoch 2/20\n",
      "35/35 [==============================] - 0s 9ms/step - loss: 0.0016 - cl_head_loss: 5.8583e-05 - bb_head_loss: 0.0015 - cl_head_accuracy: 1.0000 - bb_head_accuracy: 0.9000 - val_loss: 0.3540 - val_cl_head_loss: 0.3448 - val_bb_head_loss: 0.0092 - val_cl_head_accuracy: 0.9697 - val_bb_head_accuracy: 0.8788\n",
      "Epoch 3/20\n",
      "35/35 [==============================] - 0s 9ms/step - loss: 0.0020 - cl_head_loss: 5.9864e-05 - bb_head_loss: 0.0019 - cl_head_accuracy: 1.0000 - bb_head_accuracy: 0.8643 - val_loss: 0.3788 - val_cl_head_loss: 0.3688 - val_bb_head_loss: 0.0100 - val_cl_head_accuracy: 0.9697 - val_bb_head_accuracy: 0.8182\n",
      "Epoch 4/20\n",
      "35/35 [==============================] - 0s 8ms/step - loss: 0.0013 - cl_head_loss: 4.9887e-05 - bb_head_loss: 0.0013 - cl_head_accuracy: 1.0000 - bb_head_accuracy: 0.8857 - val_loss: 0.3698 - val_cl_head_loss: 0.3609 - val_bb_head_loss: 0.0090 - val_cl_head_accuracy: 0.9697 - val_bb_head_accuracy: 0.7576\n",
      "Epoch 5/20\n",
      "35/35 [==============================] - 0s 8ms/step - loss: 0.0016 - cl_head_loss: 4.4194e-05 - bb_head_loss: 0.0016 - cl_head_accuracy: 1.0000 - bb_head_accuracy: 0.9071 - val_loss: 0.3771 - val_cl_head_loss: 0.3676 - val_bb_head_loss: 0.0095 - val_cl_head_accuracy: 0.9697 - val_bb_head_accuracy: 0.8182\n",
      "Epoch 6/20\n",
      "35/35 [==============================] - 0s 8ms/step - loss: 0.0013 - cl_head_loss: 3.3146e-05 - bb_head_loss: 0.0013 - cl_head_accuracy: 1.0000 - bb_head_accuracy: 0.9214 - val_loss: 0.3662 - val_cl_head_loss: 0.3558 - val_bb_head_loss: 0.0105 - val_cl_head_accuracy: 0.9697 - val_bb_head_accuracy: 0.7576\n",
      "Epoch 7/20\n",
      "35/35 [==============================] - 0s 9ms/step - loss: 0.0013 - cl_head_loss: 2.8662e-05 - bb_head_loss: 0.0013 - cl_head_accuracy: 1.0000 - bb_head_accuracy: 0.9214 - val_loss: 0.3530 - val_cl_head_loss: 0.3443 - val_bb_head_loss: 0.0087 - val_cl_head_accuracy: 0.9697 - val_bb_head_accuracy: 0.8485\n",
      "Epoch 8/20\n",
      "35/35 [==============================] - 0s 8ms/step - loss: 0.0019 - cl_head_loss: 3.7841e-05 - bb_head_loss: 0.0018 - cl_head_accuracy: 1.0000 - bb_head_accuracy: 0.8929 - val_loss: 0.3514 - val_cl_head_loss: 0.3428 - val_bb_head_loss: 0.0086 - val_cl_head_accuracy: 0.9697 - val_bb_head_accuracy: 0.8485\n",
      "Epoch 9/20\n",
      "35/35 [==============================] - 0s 9ms/step - loss: 0.0016 - cl_head_loss: 2.7365e-05 - bb_head_loss: 0.0016 - cl_head_accuracy: 1.0000 - bb_head_accuracy: 0.9071 - val_loss: 0.3692 - val_cl_head_loss: 0.3604 - val_bb_head_loss: 0.0087 - val_cl_head_accuracy: 0.9697 - val_bb_head_accuracy: 0.7879\n",
      "Epoch 10/20\n",
      "35/35 [==============================] - 0s 9ms/step - loss: 0.0011 - cl_head_loss: 2.2243e-05 - bb_head_loss: 0.0010 - cl_head_accuracy: 1.0000 - bb_head_accuracy: 0.9357 - val_loss: 0.3737 - val_cl_head_loss: 0.3639 - val_bb_head_loss: 0.0098 - val_cl_head_accuracy: 0.9697 - val_bb_head_accuracy: 0.7273\n",
      "Epoch 11/20\n",
      "35/35 [==============================] - 0s 9ms/step - loss: 0.0011 - cl_head_loss: 2.9005e-05 - bb_head_loss: 0.0011 - cl_head_accuracy: 1.0000 - bb_head_accuracy: 0.8929 - val_loss: 0.3620 - val_cl_head_loss: 0.3530 - val_bb_head_loss: 0.0090 - val_cl_head_accuracy: 0.9697 - val_bb_head_accuracy: 0.7879\n",
      "Epoch 12/20\n",
      "35/35 [==============================] - 0s 9ms/step - loss: 6.0424e-04 - cl_head_loss: 2.0320e-05 - bb_head_loss: 5.8392e-04 - cl_head_accuracy: 1.0000 - bb_head_accuracy: 0.9500 - val_loss: 0.3777 - val_cl_head_loss: 0.3684 - val_bb_head_loss: 0.0092 - val_cl_head_accuracy: 0.9697 - val_bb_head_accuracy: 0.7576\n",
      "Epoch 13/20\n",
      "35/35 [==============================] - 0s 9ms/step - loss: 6.4529e-04 - cl_head_loss: 1.7627e-05 - bb_head_loss: 6.2766e-04 - cl_head_accuracy: 1.0000 - bb_head_accuracy: 0.9143 - val_loss: 0.3656 - val_cl_head_loss: 0.3567 - val_bb_head_loss: 0.0089 - val_cl_head_accuracy: 0.9697 - val_bb_head_accuracy: 0.7879\n",
      "Epoch 14/20\n",
      "35/35 [==============================] - 0s 9ms/step - loss: 4.9729e-04 - cl_head_loss: 1.5088e-05 - bb_head_loss: 4.8221e-04 - cl_head_accuracy: 1.0000 - bb_head_accuracy: 0.9429 - val_loss: 0.3821 - val_cl_head_loss: 0.3724 - val_bb_head_loss: 0.0097 - val_cl_head_accuracy: 0.9697 - val_bb_head_accuracy: 0.7576\n",
      "Epoch 15/20\n",
      "35/35 [==============================] - 0s 9ms/step - loss: 4.7675e-04 - cl_head_loss: 1.4214e-05 - bb_head_loss: 4.6253e-04 - cl_head_accuracy: 1.0000 - bb_head_accuracy: 0.9000 - val_loss: 0.3799 - val_cl_head_loss: 0.3711 - val_bb_head_loss: 0.0088 - val_cl_head_accuracy: 0.9697 - val_bb_head_accuracy: 0.8485\n",
      "Epoch 16/20\n",
      "35/35 [==============================] - 0s 9ms/step - loss: 6.3005e-04 - cl_head_loss: 1.2763e-05 - bb_head_loss: 6.1728e-04 - cl_head_accuracy: 1.0000 - bb_head_accuracy: 0.9643 - val_loss: 0.3851 - val_cl_head_loss: 0.3753 - val_bb_head_loss: 0.0098 - val_cl_head_accuracy: 0.9697 - val_bb_head_accuracy: 0.7576\n",
      "Epoch 17/20\n",
      "35/35 [==============================] - 0s 10ms/step - loss: 0.0011 - cl_head_loss: 1.3084e-05 - bb_head_loss: 0.0011 - cl_head_accuracy: 1.0000 - bb_head_accuracy: 0.8929 - val_loss: 0.3950 - val_cl_head_loss: 0.3854 - val_bb_head_loss: 0.0096 - val_cl_head_accuracy: 0.9697 - val_bb_head_accuracy: 0.8485\n",
      "Epoch 18/20\n",
      "35/35 [==============================] - 0s 10ms/step - loss: 7.0625e-04 - cl_head_loss: 1.2462e-05 - bb_head_loss: 6.9379e-04 - cl_head_accuracy: 1.0000 - bb_head_accuracy: 0.9286 - val_loss: 0.3948 - val_cl_head_loss: 0.3851 - val_bb_head_loss: 0.0098 - val_cl_head_accuracy: 0.9697 - val_bb_head_accuracy: 0.7576\n",
      "Epoch 19/20\n",
      "35/35 [==============================] - 0s 9ms/step - loss: 5.6338e-04 - cl_head_loss: 1.0552e-05 - bb_head_loss: 5.5283e-04 - cl_head_accuracy: 1.0000 - bb_head_accuracy: 0.9071 - val_loss: 0.3886 - val_cl_head_loss: 0.3789 - val_bb_head_loss: 0.0097 - val_cl_head_accuracy: 0.9697 - val_bb_head_accuracy: 0.7879\n",
      "Epoch 20/20\n",
      "35/35 [==============================] - 0s 9ms/step - loss: 4.1774e-04 - cl_head_loss: 1.0918e-05 - bb_head_loss: 4.0683e-04 - cl_head_accuracy: 1.0000 - bb_head_accuracy: 0.9500 - val_loss: 0.3975 - val_cl_head_loss: 0.3884 - val_bb_head_loss: 0.0091 - val_cl_head_accuracy: 0.9697 - val_bb_head_accuracy: 0.7879\n"
     ]
    }
   ],
   "source": [
    "history = model.fit(train_imgs, trainTargets,\n",
    "             validation_data=(test_imgs, validationTargets),\n",
    "             batch_size=4,\n",
    "             epochs=20,\n",
    "             shuffle=True,\n",
    "             verbose=1)\n"
   ]
  },
  {
   "cell_type": "code",
   "execution_count": 50,
   "metadata": {
    "execution": {
     "iopub.execute_input": "2021-10-30T20:31:30.316975Z",
     "iopub.status.busy": "2021-10-30T20:31:30.316673Z",
     "iopub.status.idle": "2021-10-30T20:31:30.324046Z",
     "shell.execute_reply": "2021-10-30T20:31:30.323339Z",
     "shell.execute_reply.started": "2021-10-30T20:31:30.316944Z"
    }
   },
   "outputs": [],
   "source": [
    "for layer in model.layers:\n",
    "    if layer.name.startswith('bl'):\n",
    "        layer.trainable = False\n",
    "        \n",
    "for layer in model.layers:\n",
    "    if layer.name.startswith('bb'):\n",
    "        layer.trainable = False"
   ]
  },
  {
   "cell_type": "code",
   "execution_count": null,
   "metadata": {
    "execution": {
     "iopub.status.busy": "2021-10-30T20:28:40.109701Z",
     "iopub.status.idle": "2021-10-30T20:28:40.110313Z",
     "shell.execute_reply": "2021-10-30T20:28:40.110094Z",
     "shell.execute_reply.started": "2021-10-30T20:28:40.110069Z"
    }
   },
   "outputs": [],
   "source": [
    "train_imgs[0].reshape(224,224,3)"
   ]
  },
  {
   "cell_type": "code",
   "execution_count": null,
   "metadata": {
    "execution": {
     "iopub.status.busy": "2021-10-30T20:28:40.111466Z",
     "iopub.status.idle": "2021-10-30T20:28:40.112021Z",
     "shell.execute_reply": "2021-10-30T20:28:40.111818Z",
     "shell.execute_reply.started": "2021-10-30T20:28:40.111792Z"
    }
   },
   "outputs": [],
   "source": [
    "train_imgs[0].shape"
   ]
  },
  {
   "cell_type": "code",
   "execution_count": 55,
   "metadata": {
    "execution": {
     "iopub.execute_input": "2021-10-30T20:32:46.806452Z",
     "iopub.status.busy": "2021-10-30T20:32:46.806181Z",
     "iopub.status.idle": "2021-10-30T20:32:46.812527Z",
     "shell.execute_reply": "2021-10-30T20:32:46.811607Z",
     "shell.execute_reply.started": "2021-10-30T20:32:46.806422Z"
    }
   },
   "outputs": [],
   "source": [
    "xmin=prediction[1][0][0]*300\n",
    "ymin=prediction[1][0][1]*168\n",
    "xmax=prediction[1][0][2]*300\n",
    "ymax=prediction[1][0][3]*168\n",
    "bb=[xmin,ymin,xmax,ymax]"
   ]
  },
  {
   "cell_type": "code",
   "execution_count": 62,
   "metadata": {
    "execution": {
     "iopub.execute_input": "2021-10-30T20:35:00.265638Z",
     "iopub.status.busy": "2021-10-30T20:35:00.265358Z",
     "iopub.status.idle": "2021-10-30T20:35:00.272157Z",
     "shell.execute_reply": "2021-10-30T20:35:00.271165Z",
     "shell.execute_reply.started": "2021-10-30T20:35:00.265594Z"
    }
   },
   "outputs": [],
   "source": [
    "def plot_img_bbox(img,box):\n",
    "    \n",
    "    # plot the image and bboxes\n",
    "    # Bounding boxes are defined as follows: x-min y-min width height\n",
    "    img=img_to_array(img,dtype=np.int32)\n",
    "    fig, a = plt.subplots(1,1)\n",
    "    fig.set_size_inches(5,5)\n",
    "    a.imshow(img)\n",
    "    \n",
    "\n",
    "    x, y, width, height  = box[0], box[1], box[2]-box[0], box[3]-box[1]\n",
    "    rect = patches.Rectangle((x, y),\n",
    "                                 width, height,\n",
    "                                 linewidth = 2,\n",
    "                                 edgecolor = 'r',\n",
    "                                 facecolor = 'none')\n",
    "\n",
    "        # Draw the bounding box on top of the image\n",
    "    a.add_patch(rect)\n",
    "    plt.show()\n"
   ]
  },
  {
   "cell_type": "code",
   "execution_count": 63,
   "metadata": {
    "execution": {
     "iopub.execute_input": "2021-10-30T20:35:02.882290Z",
     "iopub.status.busy": "2021-10-30T20:35:02.882028Z",
     "iopub.status.idle": "2021-10-30T20:35:03.083820Z",
     "shell.execute_reply": "2021-10-30T20:35:03.083150Z",
     "shell.execute_reply.started": "2021-10-30T20:35:02.882262Z"
    }
   },
   "outputs": [
    {
     "data": {
      "image/png": "[encoded data removed]",
      "text/plain": [
       "<Figure size 360x360 with 1 Axes>"
      ]
     },
     "metadata": {
      "needs_background": "light"
     },
     "output_type": "display_data"
    }
   ],
   "source": [
    "plot_img_bbox(img_to_array(load_img('../input/test121/download (2).jpg')),bb)"
   ]
  },
  {
   "cell_type": "code",
   "execution_count": 64,
   "metadata": {
    "execution": {
     "iopub.execute_input": "2021-10-30T20:36:22.654572Z",
     "iopub.status.busy": "2021-10-30T20:36:22.654249Z",
     "iopub.status.idle": "2021-10-30T20:36:22.665888Z",
     "shell.execute_reply": "2021-10-30T20:36:22.665011Z",
     "shell.execute_reply.started": "2021-10-30T20:36:22.654537Z"
    }
   },
   "outputs": [],
   "source": [
    "def prediction(img_path):\n",
    "    img = load_img(img_path) # this is a PIL image\n",
    "\n",
    "\n",
    "    array = img_to_array(img)\n",
    "    \n",
    "    arrayresized = cv2.resize(array, (224,224))\n",
    "\n",
    "\n",
    "    inputarray = arrayresized[np.newaxis,...] # dimension added to fit input size\n",
    "\n",
    "    prediction = model.predict(inputarray)  \n",
    "    \n",
    "    label=classes[np.argmax(prediction[0])]\n",
    "    xmin=prediction[1][0][0]*300\n",
    "    ymin=prediction[1][0][1]*168\n",
    "    xmax=prediction[1][0][2]*300\n",
    "    ymax=prediction[1][0][3]*168\n",
    "    bb=[xmin,ymin,xmax,ymax]\n",
    "    plot_img_bbox(img,bb)\n",
    "    \n",
    "    \n",
    "\n",
    "    \n",
    "    "
   ]
  },
  {
   "cell_type": "code",
   "execution_count": 65,
   "metadata": {
    "execution": {
     "iopub.execute_input": "2021-10-30T20:36:25.154984Z",
     "iopub.status.busy": "2021-10-30T20:36:25.154289Z",
     "iopub.status.idle": "2021-10-30T20:36:25.399152Z",
     "shell.execute_reply": "2021-10-30T20:36:25.398514Z",
     "shell.execute_reply.started": "2021-10-30T20:36:25.154940Z"
    }
   },
   "outputs": [
    {
     "data": {
      "image/png": "[encoded data removed]",
      "text/plain": [
       "<Figure size 360x360 with 1 Axes>"
      ]
     },
     "metadata": {
      "needs_background": "light"
     },
     "output_type": "display_data"
    }
   ],
   "source": [
    "prediction('../input/test121/orange.jpg')"
   ]
  },
  {
   "cell_type": "code",
   "execution_count": null,
   "metadata": {},
   "outputs": [],
   "source": []
  }
 ],
 "metadata": {
  "kernelspec": {
   "display_name": "Python 3",
   "language": "python",
   "name": "python3"
  },
  "language_info": {
   "codemirror_mode": {
    "name": "ipython",
    "version": 3
   },
   "file_extension": ".py",
   "mimetype": "text/x-python",
   "name": "python",
   "nbconvert_exporter": "python",
   "pygments_lexer": "ipython3",
   "version": "3.7.4"
  }
 },
 "nbformat": 4,
 "nbformat_minor": 4
}
